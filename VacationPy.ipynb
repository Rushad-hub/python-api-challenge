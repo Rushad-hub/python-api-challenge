{
 "cells": [
  {
   "cell_type": "markdown",
   "metadata": {},
   "source": [
    "# VacationPy\n",
    "---\n",
    "\n",
    "## Starter Code to Import Libraries and Load the Weather and Coordinates Data"
   ]
  },
  {
   "cell_type": "code",
   "execution_count": 14,
   "metadata": {},
   "outputs": [
    {
     "data": {
      "text/html": [
       "<script type=\"esms-options\">{\"shimMode\": true}</script><style>*[data-root-id],\n",
       "*[data-root-id] > * {\n",
       "  box-sizing: border-box;\n",
       "  font-family: var(--jp-ui-font-family);\n",
       "  font-size: var(--jp-ui-font-size1);\n",
       "  color: var(--vscode-editor-foreground, var(--jp-ui-font-color1));\n",
       "}\n",
       "\n",
       "/* Override VSCode background color */\n",
       ".cell-output-ipywidget-background:has(\n",
       "    > .cell-output-ipywidget-background > .lm-Widget > *[data-root-id]\n",
       "  ),\n",
       ".cell-output-ipywidget-background:has(> .lm-Widget > *[data-root-id]) {\n",
       "  background-color: transparent !important;\n",
       "}\n",
       "</style>"
      ]
     },
     "metadata": {},
     "output_type": "display_data"
    },
    {
     "data": {
      "application/javascript": "(function(root) {\n  function now() {\n    return new Date();\n  }\n\n  const force = true;\n  const py_version = '3.5.2'.replace('rc', '-rc.').replace('.dev', '-dev.');\n  const reloading = false;\n  const Bokeh = root.Bokeh;\n\n  // Set a timeout for this load but only if we are not already initializing\n  if (typeof (root._bokeh_timeout) === \"undefined\" || (force || !root._bokeh_is_initializing)) {\n    root._bokeh_timeout = Date.now() + 5000;\n    root._bokeh_failed_load = false;\n  }\n\n  function run_callbacks() {\n    try {\n      root._bokeh_onload_callbacks.forEach(function(callback) {\n        if (callback != null)\n          callback();\n      });\n    } finally {\n      delete root._bokeh_onload_callbacks;\n    }\n    console.debug(\"Bokeh: all callbacks have finished\");\n  }\n\n  function load_libs(css_urls, js_urls, js_modules, js_exports, callback) {\n    if (css_urls == null) css_urls = [];\n    if (js_urls == null) js_urls = [];\n    if (js_modules == null) js_modules = [];\n    if (js_exports == null) js_exports = {};\n\n    root._bokeh_onload_callbacks.push(callback);\n\n    if (root._bokeh_is_loading > 0) {\n      // Don't load bokeh if it is still initializing\n      console.debug(\"Bokeh: BokehJS is being loaded, scheduling callback at\", now());\n      return null;\n    } else if (js_urls.length === 0 && js_modules.length === 0 && Object.keys(js_exports).length === 0) {\n      // There is nothing to load\n      run_callbacks();\n      return null;\n    }\n\n    function on_load() {\n      root._bokeh_is_loading--;\n      if (root._bokeh_is_loading === 0) {\n        console.debug(\"Bokeh: all BokehJS libraries/stylesheets loaded\");\n        run_callbacks()\n      }\n    }\n    window._bokeh_on_load = on_load\n\n    function on_error(e) {\n      const src_el = e.srcElement\n      console.error(\"failed to load \" + (src_el.href || src_el.src));\n    }\n\n    const skip = [];\n    if (window.requirejs) {\n      window.requirejs.config({'packages': {}, 'paths': {}, 'shim': {}});\n      root._bokeh_is_loading = css_urls.length + 0;\n    } else {\n      root._bokeh_is_loading = css_urls.length + js_urls.length + js_modules.length + Object.keys(js_exports).length;\n    }\n\n    const existing_stylesheets = []\n    const links = document.getElementsByTagName('link')\n    for (let i = 0; i < links.length; i++) {\n      const link = links[i]\n      if (link.href != null) {\n        existing_stylesheets.push(link.href)\n      }\n    }\n    for (let i = 0; i < css_urls.length; i++) {\n      const url = css_urls[i];\n      const escaped = encodeURI(url)\n      if (existing_stylesheets.indexOf(escaped) !== -1) {\n        on_load()\n        continue;\n      }\n      const element = document.createElement(\"link\");\n      element.onload = on_load;\n      element.onerror = on_error;\n      element.rel = \"stylesheet\";\n      element.type = \"text/css\";\n      element.href = url;\n      console.debug(\"Bokeh: injecting link tag for BokehJS stylesheet: \", url);\n      document.body.appendChild(element);\n    }    var existing_scripts = []\n    const scripts = document.getElementsByTagName('script')\n    for (let i = 0; i < scripts.length; i++) {\n      var script = scripts[i]\n      if (script.src != null) {\n        existing_scripts.push(script.src)\n      }\n    }\n    for (let i = 0; i < js_urls.length; i++) {\n      const url = js_urls[i];\n      const escaped = encodeURI(url)\n      if (skip.indexOf(escaped) !== -1 || existing_scripts.indexOf(escaped) !== -1) {\n        if (!window.requirejs) {\n          on_load();\n        }\n        continue;\n      }\n      const element = document.createElement('script');\n      element.onload = on_load;\n      element.onerror = on_error;\n      element.async = false;\n      element.src = url;\n      console.debug(\"Bokeh: injecting script tag for BokehJS library: \", url);\n      document.head.appendChild(element);\n    }\n    for (let i = 0; i < js_modules.length; i++) {\n      const url = js_modules[i];\n      const escaped = encodeURI(url)\n      if (skip.indexOf(escaped) !== -1 || existing_scripts.indexOf(escaped) !== -1) {\n        if (!window.requirejs) {\n          on_load();\n        }\n        continue;\n      }\n      var element = document.createElement('script');\n      element.onload = on_load;\n      element.onerror = on_error;\n      element.async = false;\n      element.src = url;\n      element.type = \"module\";\n      console.debug(\"Bokeh: injecting script tag for BokehJS library: \", url);\n      document.head.appendChild(element);\n    }\n    for (const name in js_exports) {\n      const url = js_exports[name];\n      const escaped = encodeURI(url)\n      if (skip.indexOf(escaped) >= 0 || root[name] != null) {\n        if (!window.requirejs) {\n          on_load();\n        }\n        continue;\n      }\n      var element = document.createElement('script');\n      element.onerror = on_error;\n      element.async = false;\n      element.type = \"module\";\n      console.debug(\"Bokeh: injecting script tag for BokehJS library: \", url);\n      element.textContent = `\n      import ${name} from \"${url}\"\n      window.${name} = ${name}\n      window._bokeh_on_load()\n      `\n      document.head.appendChild(element);\n    }\n    if (!js_urls.length && !js_modules.length) {\n      on_load()\n    }\n  };\n\n  function inject_raw_css(css) {\n    const element = document.createElement(\"style\");\n    element.appendChild(document.createTextNode(css));\n    document.body.appendChild(element);\n  }\n\n  const js_urls = [\"https://cdn.holoviz.org/panel/1.5.2/dist/bundled/reactiveesm/es-module-shims@^1.10.0/dist/es-module-shims.min.js\", \"https://cdn.bokeh.org/bokeh/release/bokeh-3.5.2.min.js\", \"https://cdn.bokeh.org/bokeh/release/bokeh-gl-3.5.2.min.js\", \"https://cdn.bokeh.org/bokeh/release/bokeh-widgets-3.5.2.min.js\", \"https://cdn.bokeh.org/bokeh/release/bokeh-tables-3.5.2.min.js\", \"https://cdn.holoviz.org/panel/1.5.2/dist/panel.min.js\", \"https://cdn.jsdelivr.net/npm/@holoviz/geoviews@1.13.0/dist/geoviews.min.js\"];\n  const js_modules = [];\n  const js_exports = {};\n  const css_urls = [];\n  const inline_js = [    function(Bokeh) {\n      Bokeh.set_log_level(\"info\");\n    },\nfunction(Bokeh) {} // ensure no trailing comma for IE\n  ];\n\n  function run_inline_js() {\n    if ((root.Bokeh !== undefined) || (force === true)) {\n      for (let i = 0; i < inline_js.length; i++) {\n        try {\n          inline_js[i].call(root, root.Bokeh);\n        } catch(e) {\n          if (!reloading) {\n            throw e;\n          }\n        }\n      }\n      // Cache old bokeh versions\n      if (Bokeh != undefined && !reloading) {\n        var NewBokeh = root.Bokeh;\n        if (Bokeh.versions === undefined) {\n          Bokeh.versions = new Map();\n        }\n        if (NewBokeh.version !== Bokeh.version) {\n          Bokeh.versions.set(NewBokeh.version, NewBokeh)\n        }\n        root.Bokeh = Bokeh;\n      }\n    } else if (Date.now() < root._bokeh_timeout) {\n      setTimeout(run_inline_js, 100);\n    } else if (!root._bokeh_failed_load) {\n      console.log(\"Bokeh: BokehJS failed to load within specified timeout.\");\n      root._bokeh_failed_load = true;\n    }\n    root._bokeh_is_initializing = false\n  }\n\n  function load_or_wait() {\n    // Implement a backoff loop that tries to ensure we do not load multiple\n    // versions of Bokeh and its dependencies at the same time.\n    // In recent versions we use the root._bokeh_is_initializing flag\n    // to determine whether there is an ongoing attempt to initialize\n    // bokeh, however for backward compatibility we also try to ensure\n    // that we do not start loading a newer (Panel>=1.0 and Bokeh>3) version\n    // before older versions are fully initialized.\n    if (root._bokeh_is_initializing && Date.now() > root._bokeh_timeout) {\n      // If the timeout and bokeh was not successfully loaded we reset\n      // everything and try loading again\n      root._bokeh_timeout = Date.now() + 5000;\n      root._bokeh_is_initializing = false;\n      root._bokeh_onload_callbacks = undefined;\n      root._bokeh_is_loading = 0\n      console.log(\"Bokeh: BokehJS was loaded multiple times but one version failed to initialize.\");\n      load_or_wait();\n    } else if (root._bokeh_is_initializing || (typeof root._bokeh_is_initializing === \"undefined\" && root._bokeh_onload_callbacks !== undefined)) {\n      setTimeout(load_or_wait, 100);\n    } else {\n      root._bokeh_is_initializing = true\n      root._bokeh_onload_callbacks = []\n      const bokeh_loaded = root.Bokeh != null && (root.Bokeh.version === py_version || (root.Bokeh.versions !== undefined && root.Bokeh.versions.has(py_version)));\n      if (!reloading && !bokeh_loaded) {\n        if (root.Bokeh) {\n          root.Bokeh = undefined;\n        }\n        console.debug(\"Bokeh: BokehJS not loaded, scheduling load and callback at\", now());\n      }\n      load_libs(css_urls, js_urls, js_modules, js_exports, function() {\n        console.debug(\"Bokeh: BokehJS plotting callback run at\", now());\n        run_inline_js();\n      });\n    }\n  }\n  // Give older versions of the autoload script a head-start to ensure\n  // they initialize before we start loading newer version.\n  setTimeout(load_or_wait, 100)\n}(window));",
      "application/vnd.holoviews_load.v0+json": ""
     },
     "metadata": {},
     "output_type": "display_data"
    },
    {
     "data": {
      "application/javascript": "\nif ((window.PyViz === undefined) || (window.PyViz instanceof HTMLElement)) {\n  window.PyViz = {comms: {}, comm_status:{}, kernels:{}, receivers: {}, plot_index: []}\n}\n\n\n    function JupyterCommManager() {\n    }\n\n    JupyterCommManager.prototype.register_target = function(plot_id, comm_id, msg_handler) {\n      if (window.comm_manager || ((window.Jupyter !== undefined) && (Jupyter.notebook.kernel != null))) {\n        var comm_manager = window.comm_manager || Jupyter.notebook.kernel.comm_manager;\n        comm_manager.register_target(comm_id, function(comm) {\n          comm.on_msg(msg_handler);\n        });\n      } else if ((plot_id in window.PyViz.kernels) && (window.PyViz.kernels[plot_id])) {\n        window.PyViz.kernels[plot_id].registerCommTarget(comm_id, function(comm) {\n          comm.onMsg = msg_handler;\n        });\n      } else if (typeof google != 'undefined' && google.colab.kernel != null) {\n        google.colab.kernel.comms.registerTarget(comm_id, (comm) => {\n          var messages = comm.messages[Symbol.asyncIterator]();\n          function processIteratorResult(result) {\n            var message = result.value;\n            console.log(message)\n            var content = {data: message.data, comm_id};\n            var buffers = []\n            for (var buffer of message.buffers || []) {\n              buffers.push(new DataView(buffer))\n            }\n            var metadata = message.metadata || {};\n            var msg = {content, buffers, metadata}\n            msg_handler(msg);\n            return messages.next().then(processIteratorResult);\n          }\n          return messages.next().then(processIteratorResult);\n        })\n      }\n    }\n\n    JupyterCommManager.prototype.get_client_comm = function(plot_id, comm_id, msg_handler) {\n      if (comm_id in window.PyViz.comms) {\n        return window.PyViz.comms[comm_id];\n      } else if (window.comm_manager || ((window.Jupyter !== undefined) && (Jupyter.notebook.kernel != null))) {\n        var comm_manager = window.comm_manager || Jupyter.notebook.kernel.comm_manager;\n        var comm = comm_manager.new_comm(comm_id, {}, {}, {}, comm_id);\n        if (msg_handler) {\n          comm.on_msg(msg_handler);\n        }\n      } else if ((plot_id in window.PyViz.kernels) && (window.PyViz.kernels[plot_id])) {\n        var comm = window.PyViz.kernels[plot_id].connectToComm(comm_id);\n        comm.open();\n        if (msg_handler) {\n          comm.onMsg = msg_handler;\n        }\n      } else if (typeof google != 'undefined' && google.colab.kernel != null) {\n        var comm_promise = google.colab.kernel.comms.open(comm_id)\n        comm_promise.then((comm) => {\n          window.PyViz.comms[comm_id] = comm;\n          if (msg_handler) {\n            var messages = comm.messages[Symbol.asyncIterator]();\n            function processIteratorResult(result) {\n              var message = result.value;\n              var content = {data: message.data};\n              var metadata = message.metadata || {comm_id};\n              var msg = {content, metadata}\n              msg_handler(msg);\n              return messages.next().then(processIteratorResult);\n            }\n            return messages.next().then(processIteratorResult);\n          }\n        }) \n        var sendClosure = (data, metadata, buffers, disposeOnDone) => {\n          return comm_promise.then((comm) => {\n            comm.send(data, metadata, buffers, disposeOnDone);\n          });\n        };\n        var comm = {\n          send: sendClosure\n        };\n      }\n      window.PyViz.comms[comm_id] = comm;\n      return comm;\n    }\n    window.PyViz.comm_manager = new JupyterCommManager();\n    \n\n\nvar JS_MIME_TYPE = 'application/javascript';\nvar HTML_MIME_TYPE = 'text/html';\nvar EXEC_MIME_TYPE = 'application/vnd.holoviews_exec.v0+json';\nvar CLASS_NAME = 'output';\n\n/**\n * Render data to the DOM node\n */\nfunction render(props, node) {\n  var div = document.createElement(\"div\");\n  var script = document.createElement(\"script\");\n  node.appendChild(div);\n  node.appendChild(script);\n}\n\n/**\n * Handle when a new output is added\n */\nfunction handle_add_output(event, handle) {\n  var output_area = handle.output_area;\n  var output = handle.output;\n  if ((output.data == undefined) || (!output.data.hasOwnProperty(EXEC_MIME_TYPE))) {\n    return\n  }\n  var id = output.metadata[EXEC_MIME_TYPE][\"id\"];\n  var toinsert = output_area.element.find(\".\" + CLASS_NAME.split(' ')[0]);\n  if (id !== undefined) {\n    var nchildren = toinsert.length;\n    var html_node = toinsert[nchildren-1].children[0];\n    html_node.innerHTML = output.data[HTML_MIME_TYPE];\n    var scripts = [];\n    var nodelist = html_node.querySelectorAll(\"script\");\n    for (var i in nodelist) {\n      if (nodelist.hasOwnProperty(i)) {\n        scripts.push(nodelist[i])\n      }\n    }\n\n    scripts.forEach( function (oldScript) {\n      var newScript = document.createElement(\"script\");\n      var attrs = [];\n      var nodemap = oldScript.attributes;\n      for (var j in nodemap) {\n        if (nodemap.hasOwnProperty(j)) {\n          attrs.push(nodemap[j])\n        }\n      }\n      attrs.forEach(function(attr) { newScript.setAttribute(attr.name, attr.value) });\n      newScript.appendChild(document.createTextNode(oldScript.innerHTML));\n      oldScript.parentNode.replaceChild(newScript, oldScript);\n    });\n    if (JS_MIME_TYPE in output.data) {\n      toinsert[nchildren-1].children[1].textContent = output.data[JS_MIME_TYPE];\n    }\n    output_area._hv_plot_id = id;\n    if ((window.Bokeh !== undefined) && (id in Bokeh.index)) {\n      window.PyViz.plot_index[id] = Bokeh.index[id];\n    } else {\n      window.PyViz.plot_index[id] = null;\n    }\n  } else if (output.metadata[EXEC_MIME_TYPE][\"server_id\"] !== undefined) {\n    var bk_div = document.createElement(\"div\");\n    bk_div.innerHTML = output.data[HTML_MIME_TYPE];\n    var script_attrs = bk_div.children[0].attributes;\n    for (var i = 0; i < script_attrs.length; i++) {\n      toinsert[toinsert.length - 1].childNodes[1].setAttribute(script_attrs[i].name, script_attrs[i].value);\n    }\n    // store reference to server id on output_area\n    output_area._bokeh_server_id = output.metadata[EXEC_MIME_TYPE][\"server_id\"];\n  }\n}\n\n/**\n * Handle when an output is cleared or removed\n */\nfunction handle_clear_output(event, handle) {\n  var id = handle.cell.output_area._hv_plot_id;\n  var server_id = handle.cell.output_area._bokeh_server_id;\n  if (((id === undefined) || !(id in PyViz.plot_index)) && (server_id !== undefined)) { return; }\n  var comm = window.PyViz.comm_manager.get_client_comm(\"hv-extension-comm\", \"hv-extension-comm\", function () {});\n  if (server_id !== null) {\n    comm.send({event_type: 'server_delete', 'id': server_id});\n    return;\n  } else if (comm !== null) {\n    comm.send({event_type: 'delete', 'id': id});\n  }\n  delete PyViz.plot_index[id];\n  if ((window.Bokeh !== undefined) & (id in window.Bokeh.index)) {\n    var doc = window.Bokeh.index[id].model.document\n    doc.clear();\n    const i = window.Bokeh.documents.indexOf(doc);\n    if (i > -1) {\n      window.Bokeh.documents.splice(i, 1);\n    }\n  }\n}\n\n/**\n * Handle kernel restart event\n */\nfunction handle_kernel_cleanup(event, handle) {\n  delete PyViz.comms[\"hv-extension-comm\"];\n  window.PyViz.plot_index = {}\n}\n\n/**\n * Handle update_display_data messages\n */\nfunction handle_update_output(event, handle) {\n  handle_clear_output(event, {cell: {output_area: handle.output_area}})\n  handle_add_output(event, handle)\n}\n\nfunction register_renderer(events, OutputArea) {\n  function append_mime(data, metadata, element) {\n    // create a DOM node to render to\n    var toinsert = this.create_output_subarea(\n    metadata,\n    CLASS_NAME,\n    EXEC_MIME_TYPE\n    );\n    this.keyboard_manager.register_events(toinsert);\n    // Render to node\n    var props = {data: data, metadata: metadata[EXEC_MIME_TYPE]};\n    render(props, toinsert[0]);\n    element.append(toinsert);\n    return toinsert\n  }\n\n  events.on('output_added.OutputArea', handle_add_output);\n  events.on('output_updated.OutputArea', handle_update_output);\n  events.on('clear_output.CodeCell', handle_clear_output);\n  events.on('delete.Cell', handle_clear_output);\n  events.on('kernel_ready.Kernel', handle_kernel_cleanup);\n\n  OutputArea.prototype.register_mime_type(EXEC_MIME_TYPE, append_mime, {\n    safe: true,\n    index: 0\n  });\n}\n\nif (window.Jupyter !== undefined) {\n  try {\n    var events = require('base/js/events');\n    var OutputArea = require('notebook/js/outputarea').OutputArea;\n    if (OutputArea.prototype.mime_types().indexOf(EXEC_MIME_TYPE) == -1) {\n      register_renderer(events, OutputArea);\n    }\n  } catch(err) {\n  }\n}\n",
      "application/vnd.holoviews_load.v0+json": ""
     },
     "metadata": {},
     "output_type": "display_data"
    },
    {
     "data": {
      "application/vnd.holoviews_exec.v0+json": "",
      "text/html": [
       "<div id='p1248'>\n",
       "  <div id=\"c51d959a-7d7d-4c03-8ff7-822b0ad8b49b\" data-root-id=\"p1248\" style=\"display: contents;\"></div>\n",
       "</div>\n",
       "<script type=\"application/javascript\">(function(root) {\n",
       "  var docs_json = {\"0a8d034a-3857-4626-a7ed-9922d5103459\":{\"version\":\"3.5.2\",\"title\":\"Bokeh Application\",\"roots\":[{\"type\":\"object\",\"name\":\"panel.models.browser.BrowserInfo\",\"id\":\"p1248\"},{\"type\":\"object\",\"name\":\"panel.models.comm_manager.CommManager\",\"id\":\"p1249\",\"attributes\":{\"plot_id\":\"p1248\",\"comm_id\":\"7036344b56d843d18b95622f83488b9f\",\"client_comm_id\":\"0817ba6decc84ac29b6d055aa6d7cf4e\"}}],\"defs\":[{\"type\":\"model\",\"name\":\"ReactiveHTML1\"},{\"type\":\"model\",\"name\":\"FlexBox1\",\"properties\":[{\"name\":\"align_content\",\"kind\":\"Any\",\"default\":\"flex-start\"},{\"name\":\"align_items\",\"kind\":\"Any\",\"default\":\"flex-start\"},{\"name\":\"flex_direction\",\"kind\":\"Any\",\"default\":\"row\"},{\"name\":\"flex_wrap\",\"kind\":\"Any\",\"default\":\"wrap\"},{\"name\":\"gap\",\"kind\":\"Any\",\"default\":\"\"},{\"name\":\"justify_content\",\"kind\":\"Any\",\"default\":\"flex-start\"}]},{\"type\":\"model\",\"name\":\"FloatPanel1\",\"properties\":[{\"name\":\"config\",\"kind\":\"Any\",\"default\":{\"type\":\"map\"}},{\"name\":\"contained\",\"kind\":\"Any\",\"default\":true},{\"name\":\"position\",\"kind\":\"Any\",\"default\":\"right-top\"},{\"name\":\"offsetx\",\"kind\":\"Any\",\"default\":null},{\"name\":\"offsety\",\"kind\":\"Any\",\"default\":null},{\"name\":\"theme\",\"kind\":\"Any\",\"default\":\"primary\"},{\"name\":\"status\",\"kind\":\"Any\",\"default\":\"normalized\"}]},{\"type\":\"model\",\"name\":\"GridStack1\",\"properties\":[{\"name\":\"mode\",\"kind\":\"Any\",\"default\":\"warn\"},{\"name\":\"ncols\",\"kind\":\"Any\",\"default\":null},{\"name\":\"nrows\",\"kind\":\"Any\",\"default\":null},{\"name\":\"allow_resize\",\"kind\":\"Any\",\"default\":true},{\"name\":\"allow_drag\",\"kind\":\"Any\",\"default\":true},{\"name\":\"state\",\"kind\":\"Any\",\"default\":[]}]},{\"type\":\"model\",\"name\":\"drag1\",\"properties\":[{\"name\":\"slider_width\",\"kind\":\"Any\",\"default\":5},{\"name\":\"slider_color\",\"kind\":\"Any\",\"default\":\"black\"},{\"name\":\"value\",\"kind\":\"Any\",\"default\":50}]},{\"type\":\"model\",\"name\":\"click1\",\"properties\":[{\"name\":\"terminal_output\",\"kind\":\"Any\",\"default\":\"\"},{\"name\":\"debug_name\",\"kind\":\"Any\",\"default\":\"\"},{\"name\":\"clears\",\"kind\":\"Any\",\"default\":0}]},{\"type\":\"model\",\"name\":\"FastWrapper1\",\"properties\":[{\"name\":\"object\",\"kind\":\"Any\",\"default\":null},{\"name\":\"style\",\"kind\":\"Any\",\"default\":null}]},{\"type\":\"model\",\"name\":\"NotificationAreaBase1\",\"properties\":[{\"name\":\"js_events\",\"kind\":\"Any\",\"default\":{\"type\":\"map\"}},{\"name\":\"position\",\"kind\":\"Any\",\"default\":\"bottom-right\"},{\"name\":\"_clear\",\"kind\":\"Any\",\"default\":0}]},{\"type\":\"model\",\"name\":\"NotificationArea1\",\"properties\":[{\"name\":\"js_events\",\"kind\":\"Any\",\"default\":{\"type\":\"map\"}},{\"name\":\"notifications\",\"kind\":\"Any\",\"default\":[]},{\"name\":\"position\",\"kind\":\"Any\",\"default\":\"bottom-right\"},{\"name\":\"_clear\",\"kind\":\"Any\",\"default\":0},{\"name\":\"types\",\"kind\":\"Any\",\"default\":[{\"type\":\"map\",\"entries\":[[\"type\",\"warning\"],[\"background\",\"#ffc107\"],[\"icon\",{\"type\":\"map\",\"entries\":[[\"className\",\"fas fa-exclamation-triangle\"],[\"tagName\",\"i\"],[\"color\",\"white\"]]}]]},{\"type\":\"map\",\"entries\":[[\"type\",\"info\"],[\"background\",\"#007bff\"],[\"icon\",{\"type\":\"map\",\"entries\":[[\"className\",\"fas fa-info-circle\"],[\"tagName\",\"i\"],[\"color\",\"white\"]]}]]}]}]},{\"type\":\"model\",\"name\":\"Notification\",\"properties\":[{\"name\":\"background\",\"kind\":\"Any\",\"default\":null},{\"name\":\"duration\",\"kind\":\"Any\",\"default\":3000},{\"name\":\"icon\",\"kind\":\"Any\",\"default\":null},{\"name\":\"message\",\"kind\":\"Any\",\"default\":\"\"},{\"name\":\"notification_type\",\"kind\":\"Any\",\"default\":null},{\"name\":\"_destroyed\",\"kind\":\"Any\",\"default\":false}]},{\"type\":\"model\",\"name\":\"TemplateActions1\",\"properties\":[{\"name\":\"open_modal\",\"kind\":\"Any\",\"default\":0},{\"name\":\"close_modal\",\"kind\":\"Any\",\"default\":0}]},{\"type\":\"model\",\"name\":\"BootstrapTemplateActions1\",\"properties\":[{\"name\":\"open_modal\",\"kind\":\"Any\",\"default\":0},{\"name\":\"close_modal\",\"kind\":\"Any\",\"default\":0}]},{\"type\":\"model\",\"name\":\"TemplateEditor1\",\"properties\":[{\"name\":\"layout\",\"kind\":\"Any\",\"default\":[]}]},{\"type\":\"model\",\"name\":\"MaterialTemplateActions1\",\"properties\":[{\"name\":\"open_modal\",\"kind\":\"Any\",\"default\":0},{\"name\":\"close_modal\",\"kind\":\"Any\",\"default\":0}]},{\"type\":\"model\",\"name\":\"ReactiveESM1\"},{\"type\":\"model\",\"name\":\"JSComponent1\"},{\"type\":\"model\",\"name\":\"ReactComponent1\"},{\"type\":\"model\",\"name\":\"AnyWidgetComponent1\"},{\"type\":\"model\",\"name\":\"request_value1\",\"properties\":[{\"name\":\"fill\",\"kind\":\"Any\",\"default\":\"none\"},{\"name\":\"_synced\",\"kind\":\"Any\",\"default\":null},{\"name\":\"_request_sync\",\"kind\":\"Any\",\"default\":0}]}]}};\n",
       "  var render_items = [{\"docid\":\"0a8d034a-3857-4626-a7ed-9922d5103459\",\"roots\":{\"p1248\":\"c51d959a-7d7d-4c03-8ff7-822b0ad8b49b\"},\"root_ids\":[\"p1248\"]}];\n",
       "  var docs = Object.values(docs_json)\n",
       "  if (!docs) {\n",
       "    return\n",
       "  }\n",
       "  const py_version = docs[0].version.replace('rc', '-rc.').replace('.dev', '-dev.')\n",
       "  async function embed_document(root) {\n",
       "    var Bokeh = get_bokeh(root)\n",
       "    await Bokeh.embed.embed_items_notebook(docs_json, render_items);\n",
       "    for (const render_item of render_items) {\n",
       "      for (const root_id of render_item.root_ids) {\n",
       "\tconst id_el = document.getElementById(root_id)\n",
       "\tif (id_el.children.length && id_el.children[0].hasAttribute('data-root-id')) {\n",
       "\t  const root_el = id_el.children[0]\n",
       "\t  root_el.id = root_el.id + '-rendered'\n",
       "\t  for (const child of root_el.children) {\n",
       "            // Ensure JupyterLab does not capture keyboard shortcuts\n",
       "            // see: https://jupyterlab.readthedocs.io/en/4.1.x/extension/notebook.html#keyboard-interaction-model\n",
       "\t    child.setAttribute('data-lm-suppress-shortcuts', 'true')\n",
       "\t  }\n",
       "\t}\n",
       "      }\n",
       "    }\n",
       "  }\n",
       "  function get_bokeh(root) {\n",
       "    if (root.Bokeh === undefined) {\n",
       "      return null\n",
       "    } else if (root.Bokeh.version !== py_version) {\n",
       "      if (root.Bokeh.versions === undefined || !root.Bokeh.versions.has(py_version)) {\n",
       "\treturn null\n",
       "      }\n",
       "      return root.Bokeh.versions.get(py_version);\n",
       "    } else if (root.Bokeh.version === py_version) {\n",
       "      return root.Bokeh\n",
       "    }\n",
       "    return null\n",
       "  }\n",
       "  function is_loaded(root) {\n",
       "    var Bokeh = get_bokeh(root)\n",
       "    return (Bokeh != null && Bokeh.Panel !== undefined)\n",
       "  }\n",
       "  if (is_loaded(root)) {\n",
       "    embed_document(root);\n",
       "  } else {\n",
       "    var attempts = 0;\n",
       "    var timer = setInterval(function(root) {\n",
       "      if (is_loaded(root)) {\n",
       "        clearInterval(timer);\n",
       "        embed_document(root);\n",
       "      } else if (document.readyState == \"complete\") {\n",
       "        attempts++;\n",
       "        if (attempts > 200) {\n",
       "          clearInterval(timer);\n",
       "\t  var Bokeh = get_bokeh(root)\n",
       "\t  if (Bokeh == null || Bokeh.Panel == null) {\n",
       "            console.warn(\"Panel: ERROR: Unable to run Panel code because Bokeh or Panel library is missing\");\n",
       "\t  } else {\n",
       "\t    console.warn(\"Panel: WARNING: Attempting to render but not all required libraries could be resolved.\")\n",
       "\t    embed_document(root)\n",
       "\t  }\n",
       "        }\n",
       "      }\n",
       "    }, 25, root)\n",
       "  }\n",
       "})(window);</script>"
      ]
     },
     "metadata": {
      "application/vnd.holoviews_exec.v0+json": {
       "id": "p1248"
      }
     },
     "output_type": "display_data"
    }
   ],
   "source": [
    "# Dependencies and Setup\n",
    "import hvplot.pandas\n",
    "import pandas as pd\n",
    "import requests\n",
    "\n",
    "# Import API key\n",
    "from api_keys import geoapify_key\n"
   ]
  },
  {
   "cell_type": "code",
   "execution_count": 15,
   "metadata": {},
   "outputs": [
    {
     "data": {
      "text/plain": [
       "'3d162d056bd34198944194464cd123d7'"
      ]
     },
     "execution_count": 15,
     "metadata": {},
     "output_type": "execute_result"
    }
   ],
   "source": [
    "geoapify_key"
   ]
  },
  {
   "cell_type": "code",
   "execution_count": 16,
   "metadata": {},
   "outputs": [
    {
     "data": {
      "text/html": [
       "<div>\n",
       "<style scoped>\n",
       "    .dataframe tbody tr th:only-of-type {\n",
       "        vertical-align: middle;\n",
       "    }\n",
       "\n",
       "    .dataframe tbody tr th {\n",
       "        vertical-align: top;\n",
       "    }\n",
       "\n",
       "    .dataframe thead th {\n",
       "        text-align: right;\n",
       "    }\n",
       "</style>\n",
       "<table border=\"1\" class=\"dataframe\">\n",
       "  <thead>\n",
       "    <tr style=\"text-align: right;\">\n",
       "      <th></th>\n",
       "      <th>City_ID</th>\n",
       "      <th>City</th>\n",
       "      <th>Lat</th>\n",
       "      <th>Lng</th>\n",
       "      <th>Max Temp</th>\n",
       "      <th>Humidity</th>\n",
       "      <th>Cloudiness</th>\n",
       "      <th>Wind Speed</th>\n",
       "      <th>Country</th>\n",
       "      <th>Date</th>\n",
       "    </tr>\n",
       "  </thead>\n",
       "  <tbody>\n",
       "    <tr>\n",
       "      <th>0</th>\n",
       "      <td>0</td>\n",
       "      <td>polyarnyy</td>\n",
       "      <td>69.1989</td>\n",
       "      <td>33.4478</td>\n",
       "      <td>277.24</td>\n",
       "      <td>66</td>\n",
       "      <td>82</td>\n",
       "      <td>9.02</td>\n",
       "      <td>RU</td>\n",
       "      <td>1728840115</td>\n",
       "    </tr>\n",
       "    <tr>\n",
       "      <th>1</th>\n",
       "      <td>1</td>\n",
       "      <td>kharkhorin</td>\n",
       "      <td>47.1975</td>\n",
       "      <td>102.8238</td>\n",
       "      <td>271.17</td>\n",
       "      <td>86</td>\n",
       "      <td>99</td>\n",
       "      <td>3.03</td>\n",
       "      <td>MN</td>\n",
       "      <td>1728840117</td>\n",
       "    </tr>\n",
       "    <tr>\n",
       "      <th>2</th>\n",
       "      <td>2</td>\n",
       "      <td>stanley</td>\n",
       "      <td>54.8680</td>\n",
       "      <td>-1.6985</td>\n",
       "      <td>279.55</td>\n",
       "      <td>72</td>\n",
       "      <td>0</td>\n",
       "      <td>0.51</td>\n",
       "      <td>GB</td>\n",
       "      <td>1728840118</td>\n",
       "    </tr>\n",
       "    <tr>\n",
       "      <th>3</th>\n",
       "      <td>3</td>\n",
       "      <td>nurota</td>\n",
       "      <td>40.5614</td>\n",
       "      <td>65.6886</td>\n",
       "      <td>283.94</td>\n",
       "      <td>81</td>\n",
       "      <td>23</td>\n",
       "      <td>0.56</td>\n",
       "      <td>UZ</td>\n",
       "      <td>1728840050</td>\n",
       "    </tr>\n",
       "    <tr>\n",
       "      <th>4</th>\n",
       "      <td>4</td>\n",
       "      <td>edinburgh of the seven seas</td>\n",
       "      <td>-37.0676</td>\n",
       "      <td>-12.3116</td>\n",
       "      <td>287.03</td>\n",
       "      <td>75</td>\n",
       "      <td>90</td>\n",
       "      <td>9.67</td>\n",
       "      <td>SH</td>\n",
       "      <td>1728840120</td>\n",
       "    </tr>\n",
       "  </tbody>\n",
       "</table>\n",
       "</div>"
      ],
      "text/plain": [
       "   City_ID                         City      Lat       Lng  Max Temp  \\\n",
       "0        0                    polyarnyy  69.1989   33.4478    277.24   \n",
       "1        1                   kharkhorin  47.1975  102.8238    271.17   \n",
       "2        2                      stanley  54.8680   -1.6985    279.55   \n",
       "3        3                       nurota  40.5614   65.6886    283.94   \n",
       "4        4  edinburgh of the seven seas -37.0676  -12.3116    287.03   \n",
       "\n",
       "   Humidity  Cloudiness  Wind Speed Country        Date  \n",
       "0        66          82        9.02      RU  1728840115  \n",
       "1        86          99        3.03      MN  1728840117  \n",
       "2        72           0        0.51      GB  1728840118  \n",
       "3        81          23        0.56      UZ  1728840050  \n",
       "4        75          90        9.67      SH  1728840120  "
      ]
     },
     "execution_count": 16,
     "metadata": {},
     "output_type": "execute_result"
    }
   ],
   "source": [
    "# Load the CSV file created in Part 1 into a Pandas DataFrame\n",
    "city_data_df = pd.read_csv(\"output_data/cities.csv\")\n",
    "\n",
    "# Display sample data\n",
    "city_data_df.head()"
   ]
  },
  {
   "cell_type": "markdown",
   "metadata": {},
   "source": [
    "---\n",
    "\n",
    "### Step 1: Create a map that displays a point for every city in the `city_data_df` DataFrame. The size of the point should be the humidity in each city."
   ]
  },
  {
   "cell_type": "code",
   "execution_count": 17,
   "metadata": {},
   "outputs": [
    {
     "name": "stdout",
     "output_type": "stream",
     "text": [
      "Index(['City_ID', 'City', 'Lat', 'Lng', 'Max Temp', 'Humidity', 'Cloudiness',\n",
      "       'Wind Speed', 'Country', 'Date'],\n",
      "      dtype='object')\n"
     ]
    }
   ],
   "source": [
    "# Check the actual column names in the DataFrame\n",
    "print(city_data_df.columns)\n"
   ]
  },
  {
   "cell_type": "code",
   "execution_count": 18,
   "metadata": {},
   "outputs": [
    {
     "data": {},
     "metadata": {},
     "output_type": "display_data"
    },
    {
     "data": {
      "application/vnd.holoviews_exec.v0+json": "",
      "text/html": [
       "<div id='p1250'>\n",
       "  <div id=\"a5a3e9ff-abe6-4f72-879f-6a1f066653d4\" data-root-id=\"p1250\" style=\"display: contents;\"></div>\n",
       "</div>\n",
       "<script type=\"application/javascript\">(function(root) {\n",
       "  var docs_json = {\"bd3ab4a2-bfd2-4970-858a-93ae7c95b00a\":{\"version\":\"3.5.2\",\"title\":\"Bokeh Application\",\"roots\":[{\"type\":\"object\",\"name\":\"Row\",\"id\":\"p1250\",\"attributes\":{\"name\":\"Row01924\",\"tags\":[\"embedded\"],\"stylesheets\":[\"\\n:host(.pn-loading):before, .pn-loading:before {\\n  background-color: #c3c3c3;\\n  mask-size: auto calc(min(50%, 400px));\\n  -webkit-mask-size: auto calc(min(50%, 400px));\\n}\",{\"type\":\"object\",\"name\":\"ImportedStyleSheet\",\"id\":\"p1253\",\"attributes\":{\"url\":\"https://cdn.holoviz.org/panel/1.5.2/dist/css/loading.css\"}},{\"type\":\"object\",\"name\":\"ImportedStyleSheet\",\"id\":\"p1362\",\"attributes\":{\"url\":\"https://cdn.holoviz.org/panel/1.5.2/dist/css/listpanel.css\"}},{\"type\":\"object\",\"name\":\"ImportedStyleSheet\",\"id\":\"p1251\",\"attributes\":{\"url\":\"https://cdn.holoviz.org/panel/1.5.2/dist/bundled/theme/default.css\"}},{\"type\":\"object\",\"name\":\"ImportedStyleSheet\",\"id\":\"p1252\",\"attributes\":{\"url\":\"https://cdn.holoviz.org/panel/1.5.2/dist/bundled/theme/native.css\"}}],\"margin\":0,\"sizing_mode\":\"stretch_width\",\"align\":\"start\",\"children\":[{\"type\":\"object\",\"name\":\"Spacer\",\"id\":\"p1254\",\"attributes\":{\"name\":\"HSpacer01930\",\"stylesheets\":[\"\\n:host(.pn-loading):before, .pn-loading:before {\\n  background-color: #c3c3c3;\\n  mask-size: auto calc(min(50%, 400px));\\n  -webkit-mask-size: auto calc(min(50%, 400px));\\n}\",{\"id\":\"p1253\"},{\"id\":\"p1251\"},{\"id\":\"p1252\"}],\"margin\":0,\"sizing_mode\":\"stretch_width\",\"align\":\"start\"}},{\"type\":\"object\",\"name\":\"Figure\",\"id\":\"p1307\",\"attributes\":{\"width\":null,\"height\":null,\"margin\":[5,10],\"sizing_mode\":\"fixed\",\"align\":\"start\",\"x_range\":{\"type\":\"object\",\"name\":\"Range1d\",\"id\":\"p1270\",\"attributes\":{\"tags\":[[[\"Longitude\",null]],[]],\"start\":-23397569.744380005,\"end\":23711891.4585839,\"reset_start\":-23397569.744380005,\"reset_end\":23711891.4585839,\"min_interval\":5}},\"y_range\":{\"type\":\"object\",\"name\":\"Range1d\",\"id\":\"p1271\",\"attributes\":{\"tags\":[[[\"Latitude\",null]],{\"type\":\"map\",\"entries\":[[\"invert_yaxis\",false],[\"autorange\",false]]}],\"start\":-9504139.925670017,\"end\":16667782.964865487,\"reset_start\":-9504139.925670017,\"reset_end\":16667782.964865487,\"min_interval\":5}},\"x_scale\":{\"type\":\"object\",\"name\":\"LinearScale\",\"id\":\"p1317\"},\"y_scale\":{\"type\":\"object\",\"name\":\"LinearScale\",\"id\":\"p1318\"},\"title\":{\"type\":\"object\",\"name\":\"Title\",\"id\":\"p1310\",\"attributes\":{\"text_color\":\"black\",\"text_font_size\":\"12pt\"}},\"renderers\":[{\"type\":\"object\",\"name\":\"TileRenderer\",\"id\":\"p1340\",\"attributes\":{\"level\":\"underlay\",\"tile_source\":{\"type\":\"object\",\"name\":\"WMTSTileSource\",\"id\":\"p1336\",\"attributes\":{\"url\":\"https://c.tile.openstreetmap.org/{Z}/{X}/{Y}.png\",\"attribution\":\"&copy; <a href=\\\"https://www.openstreetmap.org/copyright\\\">OpenStreetMap</a> contributors\"}}}},{\"type\":\"object\",\"name\":\"GlyphRenderer\",\"id\":\"p1353\",\"attributes\":{\"data_source\":{\"type\":\"object\",\"name\":\"ColumnDataSource\",\"id\":\"p1344\",\"attributes\":{\"selected\":{\"type\":\"object\",\"name\":\"Selection\",\"id\":\"p1345\",\"attributes\":{\"indices\":[],\"line_indices\":[]}},\"selection_policy\":{\"type\":\"object\",\"name\":\"UnionRenderers\",\"id\":\"p1346\"},\"data\":{\"type\":\"map\",\"entries\":[[\"Lng\",{\"type\":\"ndarray\",\"array\":{\"type\":\"bytes\",\"data\":\"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\"},\"shape\":[575],\"dtype\":\"float64\",\"order\":\"little\"}],[\"Lat\",{\"type\":\"ndarray\",\"array\":{\"type\":\"bytes\",\"data\":\"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\"},\"shape\":[575],\"dtype\":\"float64\",\"order\":\"little\"}],[\"Humidity\",{\"type\":\"ndarray\",\"array\":{\"type\":\"bytes\",\"data\":\"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\"},\"shape\":[575],\"dtype\":\"int32\",\"order\":\"little\"}],[\"size\",{\"type\":\"ndarray\",\"array\":{\"type\":\"bytes\",\"data\":\"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\"},\"shape\":[575],\"dtype\":\"float64\",\"order\":\"little\"}]]}}},\"view\":{\"type\":\"object\",\"name\":\"CDSView\",\"id\":\"p1354\",\"attributes\":{\"filter\":{\"type\":\"object\",\"name\":\"AllIndices\",\"id\":\"p1355\"}}},\"glyph\":{\"type\":\"object\",\"name\":\"Scatter\",\"id\":\"p1350\",\"attributes\":{\"tags\":[\"apply_ranges\"],\"x\":{\"type\":\"field\",\"field\":\"Lng\"},\"y\":{\"type\":\"field\",\"field\":\"Lat\"},\"size\":{\"type\":\"field\",\"field\":\"size\"},\"line_color\":{\"type\":\"value\",\"value\":\"blue\"},\"fill_color\":{\"type\":\"value\",\"value\":\"blue\"},\"hatch_color\":{\"type\":\"value\",\"value\":\"blue\"}}},\"selection_glyph\":{\"type\":\"object\",\"name\":\"Scatter\",\"id\":\"p1358\",\"attributes\":{\"tags\":[\"apply_ranges\"],\"x\":{\"type\":\"field\",\"field\":\"Lng\"},\"y\":{\"type\":\"field\",\"field\":\"Lat\"},\"size\":{\"type\":\"field\",\"field\":\"size\"},\"angle\":{\"type\":\"value\",\"value\":0.0},\"line_color\":{\"type\":\"value\",\"value\":\"blue\"},\"line_alpha\":{\"type\":\"value\",\"value\":1.0},\"line_width\":{\"type\":\"value\",\"value\":1},\"line_join\":{\"type\":\"value\",\"value\":\"bevel\"},\"line_cap\":{\"type\":\"value\",\"value\":\"butt\"},\"line_dash\":{\"type\":\"value\",\"value\":[]},\"line_dash_offset\":{\"type\":\"value\",\"value\":0},\"fill_color\":{\"type\":\"value\",\"value\":\"blue\"},\"fill_alpha\":{\"type\":\"value\",\"value\":1.0},\"hatch_color\":{\"type\":\"value\",\"value\":\"blue\"},\"hatch_alpha\":{\"type\":\"value\",\"value\":1.0},\"hatch_scale\":{\"type\":\"value\",\"value\":12.0},\"hatch_pattern\":{\"type\":\"value\",\"value\":null},\"hatch_weight\":{\"type\":\"value\",\"value\":1.0},\"marker\":{\"type\":\"value\",\"value\":\"circle\"}}},\"nonselection_glyph\":{\"type\":\"object\",\"name\":\"Scatter\",\"id\":\"p1351\",\"attributes\":{\"tags\":[\"apply_ranges\"],\"x\":{\"type\":\"field\",\"field\":\"Lng\"},\"y\":{\"type\":\"field\",\"field\":\"Lat\"},\"size\":{\"type\":\"field\",\"field\":\"size\"},\"line_color\":{\"type\":\"value\",\"value\":\"blue\"},\"line_alpha\":{\"type\":\"value\",\"value\":0.1},\"fill_color\":{\"type\":\"value\",\"value\":\"blue\"},\"fill_alpha\":{\"type\":\"value\",\"value\":0.1},\"hatch_color\":{\"type\":\"value\",\"value\":\"blue\"},\"hatch_alpha\":{\"type\":\"value\",\"value\":0.1}}},\"muted_glyph\":{\"type\":\"object\",\"name\":\"Scatter\",\"id\":\"p1352\",\"attributes\":{\"tags\":[\"apply_ranges\"],\"x\":{\"type\":\"field\",\"field\":\"Lng\"},\"y\":{\"type\":\"field\",\"field\":\"Lat\"},\"size\":{\"type\":\"field\",\"field\":\"size\"},\"line_color\":{\"type\":\"value\",\"value\":\"blue\"},\"line_alpha\":{\"type\":\"value\",\"value\":0.2},\"fill_color\":{\"type\":\"value\",\"value\":\"blue\"},\"fill_alpha\":{\"type\":\"value\",\"value\":0.2},\"hatch_color\":{\"type\":\"value\",\"value\":\"blue\"},\"hatch_alpha\":{\"type\":\"value\",\"value\":0.2}}}}}],\"toolbar\":{\"type\":\"object\",\"name\":\"Toolbar\",\"id\":\"p1316\",\"attributes\":{\"tools\":[{\"type\":\"object\",\"name\":\"WheelZoomTool\",\"id\":\"p1274\",\"attributes\":{\"renderers\":\"auto\",\"zoom_on_axis\":false}},{\"type\":\"object\",\"name\":\"BoxZoomTool\",\"id\":\"p1282\",\"attributes\":{\"overlay\":{\"type\":\"object\",\"name\":\"BoxAnnotation\",\"id\":\"p1275\",\"attributes\":{\"syncable\":false,\"line_color\":\"black\",\"line_alpha\":1.0,\"line_width\":2,\"line_dash\":[4,4],\"fill_color\":\"lightgrey\",\"fill_alpha\":0.5,\"level\":\"overlay\",\"visible\":false,\"left\":{\"type\":\"number\",\"value\":\"nan\"},\"right\":{\"type\":\"number\",\"value\":\"nan\"},\"top\":{\"type\":\"number\",\"value\":\"nan\"},\"bottom\":{\"type\":\"number\",\"value\":\"nan\"},\"left_units\":\"canvas\",\"right_units\":\"canvas\",\"top_units\":\"canvas\",\"bottom_units\":\"canvas\",\"handles\":{\"type\":\"object\",\"name\":\"BoxInteractionHandles\",\"id\":\"p1012\",\"attributes\":{\"all\":{\"type\":\"object\",\"name\":\"AreaVisuals\",\"id\":\"p1011\",\"attributes\":{\"fill_color\":\"white\",\"hover_fill_color\":\"lightgray\"}}}}}},\"match_aspect\":true}},{\"type\":\"object\",\"name\":\"HoverTool\",\"id\":\"p1306\",\"attributes\":{\"tags\":[\"hv_created\"],\"renderers\":[{\"id\":\"p1353\"}],\"tooltips\":[[\"Lng\",\"$x{custom}\"],[\"Lat\",\"$y{custom}\"],[\"Humidity\",\"@{Humidity}\"]],\"formatters\":{\"type\":\"map\",\"entries\":[[\"$x\",{\"type\":\"object\",\"name\":\"CustomJSHover\",\"id\":\"p1356\",\"attributes\":{\"code\":\"\\n        const projections = Bokeh.require(\\\"core/util/projections\\\");\\n        const {snap_x, snap_y} = special_vars\\n        const coords = projections.wgs84_mercator.invert(snap_x, snap_y)\\n        return \\\"\\\" + (coords[0]).toFixed(4)\\n    \"}}],[\"$y\",{\"type\":\"object\",\"name\":\"CustomJSHover\",\"id\":\"p1357\",\"attributes\":{\"code\":\"\\n        const projections = Bokeh.require(\\\"core/util/projections\\\");\\n        const {snap_x, snap_y} = special_vars\\n        const coords = projections.wgs84_mercator.invert(snap_x, snap_y)\\n        return \\\"\\\" + (coords[1]).toFixed(4)\\n    \"}}]]}}},{\"type\":\"object\",\"name\":\"PanTool\",\"id\":\"p1330\"},{\"type\":\"object\",\"name\":\"ResetTool\",\"id\":\"p1331\"}],\"active_drag\":{\"id\":\"p1330\"}}},\"left\":[{\"type\":\"object\",\"name\":\"LinearAxis\",\"id\":\"p1324\",\"attributes\":{\"ticker\":{\"type\":\"object\",\"name\":\"MercatorTicker\",\"id\":\"p1334\",\"attributes\":{\"mantissas\":[1,2,5],\"dimension\":\"lat\"}},\"formatter\":{\"type\":\"object\",\"name\":\"MercatorTickFormatter\",\"id\":\"p1335\",\"attributes\":{\"dimension\":\"lat\"}},\"axis_label\":\"Latitude\",\"major_label_policy\":{\"type\":\"object\",\"name\":\"AllLabels\",\"id\":\"p1327\"}}}],\"below\":[{\"type\":\"object\",\"name\":\"LinearAxis\",\"id\":\"p1319\",\"attributes\":{\"ticker\":{\"type\":\"object\",\"name\":\"MercatorTicker\",\"id\":\"p1332\",\"attributes\":{\"mantissas\":[1,2,5],\"dimension\":\"lon\"}},\"formatter\":{\"type\":\"object\",\"name\":\"MercatorTickFormatter\",\"id\":\"p1333\",\"attributes\":{\"dimension\":\"lon\"}},\"axis_label\":\"Longitude\",\"major_label_policy\":{\"type\":\"object\",\"name\":\"AllLabels\",\"id\":\"p1322\"}}}],\"center\":[{\"type\":\"object\",\"name\":\"Grid\",\"id\":\"p1323\",\"attributes\":{\"axis\":{\"id\":\"p1319\"},\"grid_line_color\":null}},{\"type\":\"object\",\"name\":\"Grid\",\"id\":\"p1328\",\"attributes\":{\"dimension\":1,\"axis\":{\"id\":\"p1324\"},\"grid_line_color\":null}}],\"frame_width\":900,\"frame_height\":500,\"min_border_top\":10,\"min_border_bottom\":10,\"min_border_left\":10,\"min_border_right\":10,\"output_backend\":\"webgl\",\"match_aspect\":true}},{\"type\":\"object\",\"name\":\"Spacer\",\"id\":\"p1360\",\"attributes\":{\"name\":\"HSpacer01931\",\"stylesheets\":[\"\\n:host(.pn-loading):before, .pn-loading:before {\\n  background-color: #c3c3c3;\\n  mask-size: auto calc(min(50%, 400px));\\n  -webkit-mask-size: auto calc(min(50%, 400px));\\n}\",{\"id\":\"p1253\"},{\"id\":\"p1251\"},{\"id\":\"p1252\"}],\"margin\":0,\"sizing_mode\":\"stretch_width\",\"align\":\"start\"}}]}}],\"defs\":[{\"type\":\"model\",\"name\":\"ReactiveHTML1\"},{\"type\":\"model\",\"name\":\"FlexBox1\",\"properties\":[{\"name\":\"align_content\",\"kind\":\"Any\",\"default\":\"flex-start\"},{\"name\":\"align_items\",\"kind\":\"Any\",\"default\":\"flex-start\"},{\"name\":\"flex_direction\",\"kind\":\"Any\",\"default\":\"row\"},{\"name\":\"flex_wrap\",\"kind\":\"Any\",\"default\":\"wrap\"},{\"name\":\"gap\",\"kind\":\"Any\",\"default\":\"\"},{\"name\":\"justify_content\",\"kind\":\"Any\",\"default\":\"flex-start\"}]},{\"type\":\"model\",\"name\":\"FloatPanel1\",\"properties\":[{\"name\":\"config\",\"kind\":\"Any\",\"default\":{\"type\":\"map\"}},{\"name\":\"contained\",\"kind\":\"Any\",\"default\":true},{\"name\":\"position\",\"kind\":\"Any\",\"default\":\"right-top\"},{\"name\":\"offsetx\",\"kind\":\"Any\",\"default\":null},{\"name\":\"offsety\",\"kind\":\"Any\",\"default\":null},{\"name\":\"theme\",\"kind\":\"Any\",\"default\":\"primary\"},{\"name\":\"status\",\"kind\":\"Any\",\"default\":\"normalized\"}]},{\"type\":\"model\",\"name\":\"GridStack1\",\"properties\":[{\"name\":\"mode\",\"kind\":\"Any\",\"default\":\"warn\"},{\"name\":\"ncols\",\"kind\":\"Any\",\"default\":null},{\"name\":\"nrows\",\"kind\":\"Any\",\"default\":null},{\"name\":\"allow_resize\",\"kind\":\"Any\",\"default\":true},{\"name\":\"allow_drag\",\"kind\":\"Any\",\"default\":true},{\"name\":\"state\",\"kind\":\"Any\",\"default\":[]}]},{\"type\":\"model\",\"name\":\"drag1\",\"properties\":[{\"name\":\"slider_width\",\"kind\":\"Any\",\"default\":5},{\"name\":\"slider_color\",\"kind\":\"Any\",\"default\":\"black\"},{\"name\":\"value\",\"kind\":\"Any\",\"default\":50}]},{\"type\":\"model\",\"name\":\"click1\",\"properties\":[{\"name\":\"terminal_output\",\"kind\":\"Any\",\"default\":\"\"},{\"name\":\"debug_name\",\"kind\":\"Any\",\"default\":\"\"},{\"name\":\"clears\",\"kind\":\"Any\",\"default\":0}]},{\"type\":\"model\",\"name\":\"FastWrapper1\",\"properties\":[{\"name\":\"object\",\"kind\":\"Any\",\"default\":null},{\"name\":\"style\",\"kind\":\"Any\",\"default\":null}]},{\"type\":\"model\",\"name\":\"NotificationAreaBase1\",\"properties\":[{\"name\":\"js_events\",\"kind\":\"Any\",\"default\":{\"type\":\"map\"}},{\"name\":\"position\",\"kind\":\"Any\",\"default\":\"bottom-right\"},{\"name\":\"_clear\",\"kind\":\"Any\",\"default\":0}]},{\"type\":\"model\",\"name\":\"NotificationArea1\",\"properties\":[{\"name\":\"js_events\",\"kind\":\"Any\",\"default\":{\"type\":\"map\"}},{\"name\":\"notifications\",\"kind\":\"Any\",\"default\":[]},{\"name\":\"position\",\"kind\":\"Any\",\"default\":\"bottom-right\"},{\"name\":\"_clear\",\"kind\":\"Any\",\"default\":0},{\"name\":\"types\",\"kind\":\"Any\",\"default\":[{\"type\":\"map\",\"entries\":[[\"type\",\"warning\"],[\"background\",\"#ffc107\"],[\"icon\",{\"type\":\"map\",\"entries\":[[\"className\",\"fas fa-exclamation-triangle\"],[\"tagName\",\"i\"],[\"color\",\"white\"]]}]]},{\"type\":\"map\",\"entries\":[[\"type\",\"info\"],[\"background\",\"#007bff\"],[\"icon\",{\"type\":\"map\",\"entries\":[[\"className\",\"fas fa-info-circle\"],[\"tagName\",\"i\"],[\"color\",\"white\"]]}]]}]}]},{\"type\":\"model\",\"name\":\"Notification\",\"properties\":[{\"name\":\"background\",\"kind\":\"Any\",\"default\":null},{\"name\":\"duration\",\"kind\":\"Any\",\"default\":3000},{\"name\":\"icon\",\"kind\":\"Any\",\"default\":null},{\"name\":\"message\",\"kind\":\"Any\",\"default\":\"\"},{\"name\":\"notification_type\",\"kind\":\"Any\",\"default\":null},{\"name\":\"_destroyed\",\"kind\":\"Any\",\"default\":false}]},{\"type\":\"model\",\"name\":\"TemplateActions1\",\"properties\":[{\"name\":\"open_modal\",\"kind\":\"Any\",\"default\":0},{\"name\":\"close_modal\",\"kind\":\"Any\",\"default\":0}]},{\"type\":\"model\",\"name\":\"BootstrapTemplateActions1\",\"properties\":[{\"name\":\"open_modal\",\"kind\":\"Any\",\"default\":0},{\"name\":\"close_modal\",\"kind\":\"Any\",\"default\":0}]},{\"type\":\"model\",\"name\":\"TemplateEditor1\",\"properties\":[{\"name\":\"layout\",\"kind\":\"Any\",\"default\":[]}]},{\"type\":\"model\",\"name\":\"MaterialTemplateActions1\",\"properties\":[{\"name\":\"open_modal\",\"kind\":\"Any\",\"default\":0},{\"name\":\"close_modal\",\"kind\":\"Any\",\"default\":0}]},{\"type\":\"model\",\"name\":\"ReactiveESM1\"},{\"type\":\"model\",\"name\":\"JSComponent1\"},{\"type\":\"model\",\"name\":\"ReactComponent1\"},{\"type\":\"model\",\"name\":\"AnyWidgetComponent1\"},{\"type\":\"model\",\"name\":\"request_value1\",\"properties\":[{\"name\":\"fill\",\"kind\":\"Any\",\"default\":\"none\"},{\"name\":\"_synced\",\"kind\":\"Any\",\"default\":null},{\"name\":\"_request_sync\",\"kind\":\"Any\",\"default\":0}]}]}};\n",
       "  var render_items = [{\"docid\":\"bd3ab4a2-bfd2-4970-858a-93ae7c95b00a\",\"roots\":{\"p1250\":\"a5a3e9ff-abe6-4f72-879f-6a1f066653d4\"},\"root_ids\":[\"p1250\"]}];\n",
       "  var docs = Object.values(docs_json)\n",
       "  if (!docs) {\n",
       "    return\n",
       "  }\n",
       "  const py_version = docs[0].version.replace('rc', '-rc.').replace('.dev', '-dev.')\n",
       "  async function embed_document(root) {\n",
       "    var Bokeh = get_bokeh(root)\n",
       "    await Bokeh.embed.embed_items_notebook(docs_json, render_items);\n",
       "    for (const render_item of render_items) {\n",
       "      for (const root_id of render_item.root_ids) {\n",
       "\tconst id_el = document.getElementById(root_id)\n",
       "\tif (id_el.children.length && id_el.children[0].hasAttribute('data-root-id')) {\n",
       "\t  const root_el = id_el.children[0]\n",
       "\t  root_el.id = root_el.id + '-rendered'\n",
       "\t  for (const child of root_el.children) {\n",
       "            // Ensure JupyterLab does not capture keyboard shortcuts\n",
       "            // see: https://jupyterlab.readthedocs.io/en/4.1.x/extension/notebook.html#keyboard-interaction-model\n",
       "\t    child.setAttribute('data-lm-suppress-shortcuts', 'true')\n",
       "\t  }\n",
       "\t}\n",
       "      }\n",
       "    }\n",
       "  }\n",
       "  function get_bokeh(root) {\n",
       "    if (root.Bokeh === undefined) {\n",
       "      return null\n",
       "    } else if (root.Bokeh.version !== py_version) {\n",
       "      if (root.Bokeh.versions === undefined || !root.Bokeh.versions.has(py_version)) {\n",
       "\treturn null\n",
       "      }\n",
       "      return root.Bokeh.versions.get(py_version);\n",
       "    } else if (root.Bokeh.version === py_version) {\n",
       "      return root.Bokeh\n",
       "    }\n",
       "    return null\n",
       "  }\n",
       "  function is_loaded(root) {\n",
       "    var Bokeh = get_bokeh(root)\n",
       "    return (Bokeh != null && Bokeh.Panel !== undefined)\n",
       "  }\n",
       "  if (is_loaded(root)) {\n",
       "    embed_document(root);\n",
       "  } else {\n",
       "    var attempts = 0;\n",
       "    var timer = setInterval(function(root) {\n",
       "      if (is_loaded(root)) {\n",
       "        clearInterval(timer);\n",
       "        embed_document(root);\n",
       "      } else if (document.readyState == \"complete\") {\n",
       "        attempts++;\n",
       "        if (attempts > 200) {\n",
       "          clearInterval(timer);\n",
       "\t  var Bokeh = get_bokeh(root)\n",
       "\t  if (Bokeh == null || Bokeh.Panel == null) {\n",
       "            console.warn(\"Panel: ERROR: Unable to run Panel code because Bokeh or Panel library is missing\");\n",
       "\t  } else {\n",
       "\t    console.warn(\"Panel: WARNING: Attempting to render but not all required libraries could be resolved.\")\n",
       "\t    embed_document(root)\n",
       "\t  }\n",
       "        }\n",
       "      }\n",
       "    }, 25, root)\n",
       "  }\n",
       "})(window);</script>"
      ],
      "text/plain": [
       ":Overlay\n",
       "   .WMTS.I   :WMTS   [Longitude,Latitude]\n",
       "   .Points.I :Points   [Lng,Lat]   (Humidity)"
      ]
     },
     "execution_count": 18,
     "metadata": {
      "application/vnd.holoviews_exec.v0+json": {
       "id": "p1250"
      }
     },
     "output_type": "execute_result"
    }
   ],
   "source": [
    "%%capture --no-display\n",
    "\n",
    "# Configure the map plot\n",
    "city_map = city_data_df.hvplot.points(\n",
    "    'Lng',  \n",
    "    'Lat',  \n",
    "    size='Humidity',  \n",
    "    geo=True,  \n",
    "    color='blue',  \n",
    "    tiles='OSM',  \n",
    "    frame_width=900,  \n",
    "    frame_height=500  \n",
    ")\n",
    "\n",
    "# Display the map\n",
    "city_map"
   ]
  },
  {
   "cell_type": "markdown",
   "metadata": {},
   "source": [
    "### Step 2: Narrow down the `city_data_df` DataFrame to find your ideal weather condition"
   ]
  },
  {
   "cell_type": "code",
   "execution_count": 19,
   "metadata": {},
   "outputs": [
    {
     "name": "stdout",
     "output_type": "stream",
     "text": [
      "Index(['City_ID', 'City', 'Lat', 'Lng', 'Max Temp', 'Humidity', 'Cloudiness',\n",
      "       'Wind Speed', 'Country', 'Date'],\n",
      "      dtype='object')\n"
     ]
    }
   ],
   "source": [
    "# Check the column names in city_data_df\n",
    "print(city_data_df.columns)"
   ]
  },
  {
   "cell_type": "code",
   "execution_count": 20,
   "metadata": {},
   "outputs": [
    {
     "data": {
      "text/html": [
       "<div>\n",
       "<style scoped>\n",
       "    .dataframe tbody tr th:only-of-type {\n",
       "        vertical-align: middle;\n",
       "    }\n",
       "\n",
       "    .dataframe tbody tr th {\n",
       "        vertical-align: top;\n",
       "    }\n",
       "\n",
       "    .dataframe thead th {\n",
       "        text-align: right;\n",
       "    }\n",
       "</style>\n",
       "<table border=\"1\" class=\"dataframe\">\n",
       "  <thead>\n",
       "    <tr style=\"text-align: right;\">\n",
       "      <th></th>\n",
       "      <th>City_ID</th>\n",
       "      <th>City</th>\n",
       "      <th>Lat</th>\n",
       "      <th>Lng</th>\n",
       "      <th>Max Temp</th>\n",
       "      <th>Humidity</th>\n",
       "      <th>Cloudiness</th>\n",
       "      <th>Wind Speed</th>\n",
       "      <th>Country</th>\n",
       "      <th>Date</th>\n",
       "    </tr>\n",
       "  </thead>\n",
       "  <tbody>\n",
       "  </tbody>\n",
       "</table>\n",
       "</div>"
      ],
      "text/plain": [
       "Empty DataFrame\n",
       "Columns: [City_ID, City, Lat, Lng, Max Temp, Humidity, Cloudiness, Wind Speed, Country, Date]\n",
       "Index: []"
      ]
     },
     "execution_count": 20,
     "metadata": {},
     "output_type": "execute_result"
    }
   ],
   "source": [
    "# Narrow down cities that fit criteria and drop any results with null values\n",
    "# Narrow down cities that fit the ideal weather conditions\n",
    "ideal_weather_df = city_data_df.loc[(city_data_df[\"Max Temp\"]>21) & (city_data_df[\"Max Temp\"]< 27) &\n",
    "                             (city_data_df[\"Wind Speed\"]< 4.5) & (city_data_df[\"Cloudiness\"] == 0) ]\n",
    "ideal_weather_df\n",
    "\n",
    "# Drop any rows with null values\n",
    "ideal_weather_df.dropna(how=\"any\")\n",
    "\n",
    "# Display the filtered data\n",
    "ideal_weather_df.head()"
   ]
  },
  {
   "cell_type": "markdown",
   "metadata": {},
   "source": [
    "### Step 3: Create a new DataFrame called `hotel_df`."
   ]
  },
  {
   "cell_type": "code",
   "execution_count": 21,
   "metadata": {},
   "outputs": [
    {
     "data": {
      "text/html": [
       "<div>\n",
       "<style scoped>\n",
       "    .dataframe tbody tr th:only-of-type {\n",
       "        vertical-align: middle;\n",
       "    }\n",
       "\n",
       "    .dataframe tbody tr th {\n",
       "        vertical-align: top;\n",
       "    }\n",
       "\n",
       "    .dataframe thead th {\n",
       "        text-align: right;\n",
       "    }\n",
       "</style>\n",
       "<table border=\"1\" class=\"dataframe\">\n",
       "  <thead>\n",
       "    <tr style=\"text-align: right;\">\n",
       "      <th></th>\n",
       "      <th>City</th>\n",
       "      <th>Country</th>\n",
       "      <th>Lat</th>\n",
       "      <th>Lng</th>\n",
       "      <th>Hotel Name</th>\n",
       "    </tr>\n",
       "  </thead>\n",
       "  <tbody>\n",
       "  </tbody>\n",
       "</table>\n",
       "</div>"
      ],
      "text/plain": [
       "Empty DataFrame\n",
       "Columns: [City, Country, Lat, Lng, Hotel Name]\n",
       "Index: []"
      ]
     },
     "execution_count": 21,
     "metadata": {},
     "output_type": "execute_result"
    }
   ],
   "source": [
    "# Use the Pandas copy function to create DataFrame called hotel_df to store the city, country, coordinates, and humidity\n",
    "hotel_df = ideal_weather_df[['City', 'Country', 'Lat', 'Lng']].copy()\n",
    "\n",
    "# Add an empty column, \"Hotel Name,\" to the DataFrame so you can store the hotel found using the Geoapify API\n",
    "hotel_df['Hotel Name'] = \"\"\n",
    "\n",
    "# Display sample data\n",
    "hotel_df.head()"
   ]
  },
  {
   "cell_type": "markdown",
   "metadata": {},
   "source": [
    "### Step 4: For each city, use the Geoapify API to find the first hotel located within 10,000 metres of your coordinates."
   ]
  },
  {
   "cell_type": "code",
   "execution_count": 23,
   "metadata": {},
   "outputs": [
    {
     "name": "stdout",
     "output_type": "stream",
     "text": [
      "Empty DataFrame\n",
      "Columns: [City, Country, Lat, Lng, Hotel Name]\n",
      "Index: []\n",
      "(0, 5)\n"
     ]
    }
   ],
   "source": [
    "print(hotel_df.head())  # Check the first few rows\n",
    "print(hotel_df.shape)    # Check the shape to see if it has rows and columns"
   ]
  },
  {
   "cell_type": "code",
   "execution_count": 22,
   "metadata": {},
   "outputs": [
    {
     "data": {
      "text/html": [
       "<div>\n",
       "<style scoped>\n",
       "    .dataframe tbody tr th:only-of-type {\n",
       "        vertical-align: middle;\n",
       "    }\n",
       "\n",
       "    .dataframe tbody tr th {\n",
       "        vertical-align: top;\n",
       "    }\n",
       "\n",
       "    .dataframe thead th {\n",
       "        text-align: right;\n",
       "    }\n",
       "</style>\n",
       "<table border=\"1\" class=\"dataframe\">\n",
       "  <thead>\n",
       "    <tr style=\"text-align: right;\">\n",
       "      <th></th>\n",
       "      <th>City</th>\n",
       "      <th>Country</th>\n",
       "      <th>Lat</th>\n",
       "      <th>Lng</th>\n",
       "      <th>Hotel Name</th>\n",
       "    </tr>\n",
       "  </thead>\n",
       "  <tbody>\n",
       "  </tbody>\n",
       "</table>\n",
       "</div>"
      ],
      "text/plain": [
       "Empty DataFrame\n",
       "Columns: [City, Country, Lat, Lng, Hotel Name]\n",
       "Index: []"
      ]
     },
     "execution_count": 22,
     "metadata": {},
     "output_type": "execute_result"
    }
   ],
   "source": [
    "hotel_df"
   ]
  },
  {
   "cell_type": "code",
   "execution_count": 24,
   "metadata": {},
   "outputs": [],
   "source": [
    "hotel_df.reset_index(drop=True, inplace=True)"
   ]
  },
  {
   "cell_type": "code",
   "execution_count": 25,
   "metadata": {},
   "outputs": [
    {
     "name": "stdout",
     "output_type": "stream",
     "text": [
      "Starting hotel search\n"
     ]
    },
    {
     "data": {
      "text/html": [
       "<div>\n",
       "<style scoped>\n",
       "    .dataframe tbody tr th:only-of-type {\n",
       "        vertical-align: middle;\n",
       "    }\n",
       "\n",
       "    .dataframe tbody tr th {\n",
       "        vertical-align: top;\n",
       "    }\n",
       "\n",
       "    .dataframe thead th {\n",
       "        text-align: right;\n",
       "    }\n",
       "</style>\n",
       "<table border=\"1\" class=\"dataframe\">\n",
       "  <thead>\n",
       "    <tr style=\"text-align: right;\">\n",
       "      <th></th>\n",
       "      <th>City</th>\n",
       "      <th>Country</th>\n",
       "      <th>Lat</th>\n",
       "      <th>Lng</th>\n",
       "      <th>Hotel Name</th>\n",
       "    </tr>\n",
       "  </thead>\n",
       "  <tbody>\n",
       "  </tbody>\n",
       "</table>\n",
       "</div>"
      ],
      "text/plain": [
       "Empty DataFrame\n",
       "Columns: [City, Country, Lat, Lng, Hotel Name]\n",
       "Index: []"
      ]
     },
     "execution_count": 25,
     "metadata": {},
     "output_type": "execute_result"
    }
   ],
   "source": [
    "import requests\n",
    "\n",
    "# Set the search radius to 10,000 meters (10 km)\n",
    "radius = 10000\n",
    "\n",
    "# Print a message to follow up the hotel search\n",
    "print(\"Starting hotel search\")\n",
    "\n",
    "# Iterate through the hotel_df DataFrame\n",
    "for index, row in hotel_df.iterrows():\n",
    "    # Get latitude and longitude from the DataFrame for each city\n",
    "    lat = row['Lat']\n",
    "    lng = row['Lng']\n",
    "\n",
    "    # Add the current city's latitude and longitude to the params dictionary\n",
    "    params = {\n",
    "        \"categories\": \"accommodation.hotel\",  # Search for hotels\n",
    "        \"filter\": f\"circle:{lng},{lat},{radius}\",  # Filter based on city coordinates and radius\n",
    "        \"bias\": f\"proximity:{lng},{lat}\",  # Bias the search towards the city's location\n",
    "        \"limit\": 1,  # Limit results to the first hotel\n",
    "        \"apiKey\": geoapify_key  # Your Geoapify API key\n",
    "    }\n",
    "\n",
    "    # Set base URL for the Geoapify API\n",
    "    base_url = \"https://api.geoapify.com/v2/places\"\n",
    "\n",
    "    # Make an API request using the params dictionary\n",
    "    response = requests.get(base_url, params=params)\n",
    "\n",
    "    # Convert the API response to JSON format\n",
    "    name_address = response.json()\n",
    "\n",
    "    # Grab the first hotel from the results and store the name in the hotel_df DataFrame\n",
    "    try:\n",
    "        hotel_df.loc[index, \"Hotel Name\"] = name_address[\"features\"][0][\"properties\"][\"name\"]\n",
    "    except (KeyError, IndexError):\n",
    "        # If no hotel is found, set the hotel name as \"No hotel found\".\n",
    "        hotel_df.loc[index, \"Hotel Name\"] = \"No hotel found\"\n",
    "\n",
    "    # Log the search results\n",
    "    print(f\"{hotel_df.loc[index, 'City']} - nearest hotel: {hotel_df.loc[index, 'Hotel Name']}\")\n",
    "\n",
    "# Display sample data\n",
    "hotel_df.head()"
   ]
  },
  {
   "cell_type": "markdown",
   "metadata": {},
   "source": [
    "### Step 5: Add the hotel name and the country as additional information in the hover message for each city in the map."
   ]
  },
  {
   "cell_type": "code",
   "execution_count": 26,
   "metadata": {},
   "outputs": [
    {
     "data": {},
     "metadata": {},
     "output_type": "display_data"
    },
    {
     "data": {
      "application/vnd.holoviews_exec.v0+json": "",
      "text/html": [
       "<div id='p1368'>\n",
       "  <div id=\"c04517f6-4255-4087-8043-3175615a6b6c\" data-root-id=\"p1368\" style=\"display: contents;\"></div>\n",
       "</div>\n",
       "<script type=\"application/javascript\">(function(root) {\n",
       "  var docs_json = {\"dca841b6-7ebc-45cf-aeca-d33902121ac9\":{\"version\":\"3.5.2\",\"title\":\"Bokeh Application\",\"roots\":[{\"type\":\"object\",\"name\":\"Row\",\"id\":\"p1368\",\"attributes\":{\"name\":\"Row02046\",\"tags\":[\"embedded\"],\"stylesheets\":[\"\\n:host(.pn-loading):before, .pn-loading:before {\\n  background-color: #c3c3c3;\\n  mask-size: auto calc(min(50%, 400px));\\n  -webkit-mask-size: auto calc(min(50%, 400px));\\n}\",{\"type\":\"object\",\"name\":\"ImportedStyleSheet\",\"id\":\"p1371\",\"attributes\":{\"url\":\"https://cdn.holoviz.org/panel/1.5.2/dist/css/loading.css\"}},{\"type\":\"object\",\"name\":\"ImportedStyleSheet\",\"id\":\"p1481\",\"attributes\":{\"url\":\"https://cdn.holoviz.org/panel/1.5.2/dist/css/listpanel.css\"}},{\"type\":\"object\",\"name\":\"ImportedStyleSheet\",\"id\":\"p1369\",\"attributes\":{\"url\":\"https://cdn.holoviz.org/panel/1.5.2/dist/bundled/theme/default.css\"}},{\"type\":\"object\",\"name\":\"ImportedStyleSheet\",\"id\":\"p1370\",\"attributes\":{\"url\":\"https://cdn.holoviz.org/panel/1.5.2/dist/bundled/theme/native.css\"}}],\"margin\":0,\"sizing_mode\":\"stretch_width\",\"align\":\"start\",\"children\":[{\"type\":\"object\",\"name\":\"Spacer\",\"id\":\"p1372\",\"attributes\":{\"name\":\"HSpacer02052\",\"stylesheets\":[\"\\n:host(.pn-loading):before, .pn-loading:before {\\n  background-color: #c3c3c3;\\n  mask-size: auto calc(min(50%, 400px));\\n  -webkit-mask-size: auto calc(min(50%, 400px));\\n}\",{\"id\":\"p1371\"},{\"id\":\"p1369\"},{\"id\":\"p1370\"}],\"margin\":0,\"sizing_mode\":\"stretch_width\",\"align\":\"start\"}},{\"type\":\"object\",\"name\":\"Figure\",\"id\":\"p1425\",\"attributes\":{\"width\":null,\"height\":null,\"margin\":[5,10],\"sizing_mode\":\"fixed\",\"align\":\"start\",\"x_range\":{\"type\":\"object\",\"name\":\"Range1d\",\"id\":\"p1388\",\"attributes\":{\"tags\":[[[\"Longitude\",null]],[]],\"start\":-2.0,\"end\":3.0,\"min_interval\":5}},\"y_range\":{\"type\":\"object\",\"name\":\"Range1d\",\"id\":\"p1389\",\"attributes\":{\"tags\":[[[\"Latitude\",null]],{\"type\":\"map\",\"entries\":[[\"invert_yaxis\",false],[\"autorange\",false]]}],\"start\":-2.0,\"end\":3.0,\"min_interval\":5}},\"x_scale\":{\"type\":\"object\",\"name\":\"LinearScale\",\"id\":\"p1435\"},\"y_scale\":{\"type\":\"object\",\"name\":\"LinearScale\",\"id\":\"p1436\"},\"title\":{\"type\":\"object\",\"name\":\"Title\",\"id\":\"p1428\",\"attributes\":{\"text_color\":\"black\",\"text_font_size\":\"12pt\"}},\"renderers\":[{\"type\":\"object\",\"name\":\"TileRenderer\",\"id\":\"p1458\",\"attributes\":{\"level\":\"underlay\",\"tile_source\":{\"type\":\"object\",\"name\":\"WMTSTileSource\",\"id\":\"p1454\",\"attributes\":{\"url\":\"https://c.tile.openstreetmap.org/{Z}/{X}/{Y}.png\",\"attribution\":\"&copy; <a href=\\\"https://www.openstreetmap.org/copyright\\\">OpenStreetMap</a> contributors\"}}}},{\"type\":\"object\",\"name\":\"GlyphRenderer\",\"id\":\"p1473\",\"attributes\":{\"data_source\":{\"type\":\"object\",\"name\":\"ColumnDataSource\",\"id\":\"p1462\",\"attributes\":{\"selected\":{\"type\":\"object\",\"name\":\"Selection\",\"id\":\"p1463\",\"attributes\":{\"indices\":[],\"line_indices\":[]}},\"selection_policy\":{\"type\":\"object\",\"name\":\"UnionRenderers\",\"id\":\"p1464\"},\"data\":{\"type\":\"map\",\"entries\":[[\"Lng\",{\"type\":\"ndarray\",\"array\":{\"type\":\"bytes\",\"data\":\"\"},\"shape\":[0],\"dtype\":\"float64\",\"order\":\"little\"}],[\"Lat\",{\"type\":\"ndarray\",\"array\":{\"type\":\"bytes\",\"data\":\"\"},\"shape\":[0],\"dtype\":\"float64\",\"order\":\"little\"}],[\"Hotel_Name\",{\"type\":\"ndarray\",\"array\":[],\"shape\":[0],\"dtype\":\"object\",\"order\":\"little\"}],[\"City\",{\"type\":\"ndarray\",\"array\":[],\"shape\":[0],\"dtype\":\"object\",\"order\":\"little\"}],[\"Country\",{\"type\":\"ndarray\",\"array\":[],\"shape\":[0],\"dtype\":\"object\",\"order\":\"little\"}],[\"color\",{\"type\":\"ndarray\",\"array\":[],\"shape\":[0],\"dtype\":\"object\",\"order\":\"little\"}]]}}},\"view\":{\"type\":\"object\",\"name\":\"CDSView\",\"id\":\"p1474\",\"attributes\":{\"filter\":{\"type\":\"object\",\"name\":\"AllIndices\",\"id\":\"p1475\"}}},\"glyph\":{\"type\":\"object\",\"name\":\"Scatter\",\"id\":\"p1468\",\"attributes\":{\"tags\":[\"apply_ranges\"],\"x\":{\"type\":\"field\",\"field\":\"Lng\"},\"y\":{\"type\":\"field\",\"field\":\"Lat\"},\"size\":{\"type\":\"value\",\"value\":3.1622776601683795},\"line_color\":{\"type\":\"field\",\"field\":\"color\"},\"fill_color\":{\"type\":\"field\",\"field\":\"color\"},\"hatch_color\":{\"type\":\"field\",\"field\":\"color\"}}},\"selection_glyph\":{\"type\":\"object\",\"name\":\"Scatter\",\"id\":\"p1470\",\"attributes\":{\"tags\":[\"apply_ranges\"],\"x\":{\"type\":\"field\",\"field\":\"Lng\"},\"y\":{\"type\":\"field\",\"field\":\"Lat\"},\"size\":{\"type\":\"value\",\"value\":3.1622776601683795},\"line_color\":{\"type\":\"field\",\"field\":\"color\"},\"fill_color\":{\"type\":\"field\",\"field\":\"color\"},\"hatch_color\":{\"type\":\"field\",\"field\":\"color\"}}},\"nonselection_glyph\":{\"type\":\"object\",\"name\":\"Scatter\",\"id\":\"p1469\",\"attributes\":{\"tags\":[\"apply_ranges\"],\"x\":{\"type\":\"field\",\"field\":\"Lng\"},\"y\":{\"type\":\"field\",\"field\":\"Lat\"},\"size\":{\"type\":\"value\",\"value\":3.1622776601683795},\"line_color\":{\"type\":\"field\",\"field\":\"color\"},\"line_alpha\":{\"type\":\"value\",\"value\":0.1},\"fill_color\":{\"type\":\"field\",\"field\":\"color\"},\"fill_alpha\":{\"type\":\"value\",\"value\":0.1},\"hatch_color\":{\"type\":\"field\",\"field\":\"color\"},\"hatch_alpha\":{\"type\":\"value\",\"value\":0.1}}},\"hover_glyph\":{\"type\":\"object\",\"name\":\"Scatter\",\"id\":\"p1471\",\"attributes\":{\"tags\":[\"apply_ranges\"],\"x\":{\"type\":\"field\",\"field\":\"Lng\"},\"y\":{\"type\":\"field\",\"field\":\"Lat\"},\"size\":{\"type\":\"value\",\"value\":3.1622776601683795},\"line_color\":{\"type\":\"field\",\"field\":\"color\"},\"fill_color\":{\"type\":\"field\",\"field\":\"color\"},\"hatch_color\":{\"type\":\"field\",\"field\":\"color\"}}},\"muted_glyph\":{\"type\":\"object\",\"name\":\"Scatter\",\"id\":\"p1472\",\"attributes\":{\"tags\":[\"apply_ranges\"],\"x\":{\"type\":\"field\",\"field\":\"Lng\"},\"y\":{\"type\":\"field\",\"field\":\"Lat\"},\"size\":{\"type\":\"value\",\"value\":3.1622776601683795},\"line_color\":{\"type\":\"field\",\"field\":\"color\"},\"line_alpha\":{\"type\":\"value\",\"value\":0.2},\"fill_color\":{\"type\":\"field\",\"field\":\"color\"},\"fill_alpha\":{\"type\":\"value\",\"value\":0.2},\"hatch_color\":{\"type\":\"field\",\"field\":\"color\"},\"hatch_alpha\":{\"type\":\"value\",\"value\":0.2}}}}}],\"toolbar\":{\"type\":\"object\",\"name\":\"Toolbar\",\"id\":\"p1434\",\"attributes\":{\"tools\":[{\"type\":\"object\",\"name\":\"WheelZoomTool\",\"id\":\"p1392\",\"attributes\":{\"renderers\":\"auto\",\"zoom_on_axis\":false}},{\"type\":\"object\",\"name\":\"BoxZoomTool\",\"id\":\"p1400\",\"attributes\":{\"overlay\":{\"type\":\"object\",\"name\":\"BoxAnnotation\",\"id\":\"p1393\",\"attributes\":{\"syncable\":false,\"line_color\":\"black\",\"line_alpha\":1.0,\"line_width\":2,\"line_dash\":[4,4],\"fill_color\":\"lightgrey\",\"fill_alpha\":0.5,\"level\":\"overlay\",\"visible\":false,\"left\":{\"type\":\"number\",\"value\":\"nan\"},\"right\":{\"type\":\"number\",\"value\":\"nan\"},\"top\":{\"type\":\"number\",\"value\":\"nan\"},\"bottom\":{\"type\":\"number\",\"value\":\"nan\"},\"left_units\":\"canvas\",\"right_units\":\"canvas\",\"top_units\":\"canvas\",\"bottom_units\":\"canvas\",\"handles\":{\"type\":\"object\",\"name\":\"BoxInteractionHandles\",\"id\":\"p1012\",\"attributes\":{\"all\":{\"type\":\"object\",\"name\":\"AreaVisuals\",\"id\":\"p1011\",\"attributes\":{\"fill_color\":\"white\",\"hover_fill_color\":\"lightgray\"}}}}}},\"match_aspect\":true}},{\"type\":\"object\",\"name\":\"HoverTool\",\"id\":\"p1424\",\"attributes\":{\"tags\":[\"hv_created\"],\"renderers\":[{\"id\":\"p1473\"}],\"tooltips\":[[\"Lng\",\"$x{custom}\"],[\"Lat\",\"$y{custom}\"],[\"Hotel Name\",\"@{Hotel_Name}\"],[\"City\",\"@{City}\"],[\"Country\",\"@{Country}\"]],\"formatters\":{\"type\":\"map\",\"entries\":[[\"$x\",{\"type\":\"object\",\"name\":\"CustomJSHover\",\"id\":\"p1476\",\"attributes\":{\"code\":\"\\n        const projections = Bokeh.require(\\\"core/util/projections\\\");\\n        const {snap_x, snap_y} = special_vars\\n        const coords = projections.wgs84_mercator.invert(snap_x, snap_y)\\n        return \\\"\\\" + (coords[0]).toFixed(4)\\n    \"}}],[\"$y\",{\"type\":\"object\",\"name\":\"CustomJSHover\",\"id\":\"p1477\",\"attributes\":{\"code\":\"\\n        const projections = Bokeh.require(\\\"core/util/projections\\\");\\n        const {snap_x, snap_y} = special_vars\\n        const coords = projections.wgs84_mercator.invert(snap_x, snap_y)\\n        return \\\"\\\" + (coords[1]).toFixed(4)\\n    \"}}]]}}},{\"type\":\"object\",\"name\":\"PanTool\",\"id\":\"p1448\"},{\"type\":\"object\",\"name\":\"ResetTool\",\"id\":\"p1449\"}],\"active_drag\":{\"id\":\"p1448\"}}},\"left\":[{\"type\":\"object\",\"name\":\"LinearAxis\",\"id\":\"p1442\",\"attributes\":{\"ticker\":{\"type\":\"object\",\"name\":\"MercatorTicker\",\"id\":\"p1452\",\"attributes\":{\"mantissas\":[1,2,5],\"dimension\":\"lat\"}},\"formatter\":{\"type\":\"object\",\"name\":\"MercatorTickFormatter\",\"id\":\"p1453\",\"attributes\":{\"dimension\":\"lat\"}},\"axis_label\":\"Latitude\",\"major_label_policy\":{\"type\":\"object\",\"name\":\"AllLabels\",\"id\":\"p1445\"}}}],\"below\":[{\"type\":\"object\",\"name\":\"LinearAxis\",\"id\":\"p1437\",\"attributes\":{\"ticker\":{\"type\":\"object\",\"name\":\"MercatorTicker\",\"id\":\"p1450\",\"attributes\":{\"mantissas\":[1,2,5],\"dimension\":\"lon\"}},\"formatter\":{\"type\":\"object\",\"name\":\"MercatorTickFormatter\",\"id\":\"p1451\",\"attributes\":{\"dimension\":\"lon\"}},\"axis_label\":\"Longitude\",\"major_label_policy\":{\"type\":\"object\",\"name\":\"AllLabels\",\"id\":\"p1440\"}}}],\"center\":[{\"type\":\"object\",\"name\":\"Grid\",\"id\":\"p1441\",\"attributes\":{\"axis\":{\"id\":\"p1437\"},\"grid_line_color\":null}},{\"type\":\"object\",\"name\":\"Grid\",\"id\":\"p1446\",\"attributes\":{\"dimension\":1,\"axis\":{\"id\":\"p1442\"},\"grid_line_color\":null}}],\"frame_width\":800,\"frame_height\":600,\"min_border_top\":10,\"min_border_bottom\":10,\"min_border_left\":10,\"min_border_right\":10,\"output_backend\":\"webgl\",\"match_aspect\":true}},{\"type\":\"object\",\"name\":\"Spacer\",\"id\":\"p1479\",\"attributes\":{\"name\":\"HSpacer02053\",\"stylesheets\":[\"\\n:host(.pn-loading):before, .pn-loading:before {\\n  background-color: #c3c3c3;\\n  mask-size: auto calc(min(50%, 400px));\\n  -webkit-mask-size: auto calc(min(50%, 400px));\\n}\",{\"id\":\"p1371\"},{\"id\":\"p1369\"},{\"id\":\"p1370\"}],\"margin\":0,\"sizing_mode\":\"stretch_width\",\"align\":\"start\"}}]}}],\"defs\":[{\"type\":\"model\",\"name\":\"ReactiveHTML1\"},{\"type\":\"model\",\"name\":\"FlexBox1\",\"properties\":[{\"name\":\"align_content\",\"kind\":\"Any\",\"default\":\"flex-start\"},{\"name\":\"align_items\",\"kind\":\"Any\",\"default\":\"flex-start\"},{\"name\":\"flex_direction\",\"kind\":\"Any\",\"default\":\"row\"},{\"name\":\"flex_wrap\",\"kind\":\"Any\",\"default\":\"wrap\"},{\"name\":\"gap\",\"kind\":\"Any\",\"default\":\"\"},{\"name\":\"justify_content\",\"kind\":\"Any\",\"default\":\"flex-start\"}]},{\"type\":\"model\",\"name\":\"FloatPanel1\",\"properties\":[{\"name\":\"config\",\"kind\":\"Any\",\"default\":{\"type\":\"map\"}},{\"name\":\"contained\",\"kind\":\"Any\",\"default\":true},{\"name\":\"position\",\"kind\":\"Any\",\"default\":\"right-top\"},{\"name\":\"offsetx\",\"kind\":\"Any\",\"default\":null},{\"name\":\"offsety\",\"kind\":\"Any\",\"default\":null},{\"name\":\"theme\",\"kind\":\"Any\",\"default\":\"primary\"},{\"name\":\"status\",\"kind\":\"Any\",\"default\":\"normalized\"}]},{\"type\":\"model\",\"name\":\"GridStack1\",\"properties\":[{\"name\":\"mode\",\"kind\":\"Any\",\"default\":\"warn\"},{\"name\":\"ncols\",\"kind\":\"Any\",\"default\":null},{\"name\":\"nrows\",\"kind\":\"Any\",\"default\":null},{\"name\":\"allow_resize\",\"kind\":\"Any\",\"default\":true},{\"name\":\"allow_drag\",\"kind\":\"Any\",\"default\":true},{\"name\":\"state\",\"kind\":\"Any\",\"default\":[]}]},{\"type\":\"model\",\"name\":\"drag1\",\"properties\":[{\"name\":\"slider_width\",\"kind\":\"Any\",\"default\":5},{\"name\":\"slider_color\",\"kind\":\"Any\",\"default\":\"black\"},{\"name\":\"value\",\"kind\":\"Any\",\"default\":50}]},{\"type\":\"model\",\"name\":\"click1\",\"properties\":[{\"name\":\"terminal_output\",\"kind\":\"Any\",\"default\":\"\"},{\"name\":\"debug_name\",\"kind\":\"Any\",\"default\":\"\"},{\"name\":\"clears\",\"kind\":\"Any\",\"default\":0}]},{\"type\":\"model\",\"name\":\"FastWrapper1\",\"properties\":[{\"name\":\"object\",\"kind\":\"Any\",\"default\":null},{\"name\":\"style\",\"kind\":\"Any\",\"default\":null}]},{\"type\":\"model\",\"name\":\"NotificationAreaBase1\",\"properties\":[{\"name\":\"js_events\",\"kind\":\"Any\",\"default\":{\"type\":\"map\"}},{\"name\":\"position\",\"kind\":\"Any\",\"default\":\"bottom-right\"},{\"name\":\"_clear\",\"kind\":\"Any\",\"default\":0}]},{\"type\":\"model\",\"name\":\"NotificationArea1\",\"properties\":[{\"name\":\"js_events\",\"kind\":\"Any\",\"default\":{\"type\":\"map\"}},{\"name\":\"notifications\",\"kind\":\"Any\",\"default\":[]},{\"name\":\"position\",\"kind\":\"Any\",\"default\":\"bottom-right\"},{\"name\":\"_clear\",\"kind\":\"Any\",\"default\":0},{\"name\":\"types\",\"kind\":\"Any\",\"default\":[{\"type\":\"map\",\"entries\":[[\"type\",\"warning\"],[\"background\",\"#ffc107\"],[\"icon\",{\"type\":\"map\",\"entries\":[[\"className\",\"fas fa-exclamation-triangle\"],[\"tagName\",\"i\"],[\"color\",\"white\"]]}]]},{\"type\":\"map\",\"entries\":[[\"type\",\"info\"],[\"background\",\"#007bff\"],[\"icon\",{\"type\":\"map\",\"entries\":[[\"className\",\"fas fa-info-circle\"],[\"tagName\",\"i\"],[\"color\",\"white\"]]}]]}]}]},{\"type\":\"model\",\"name\":\"Notification\",\"properties\":[{\"name\":\"background\",\"kind\":\"Any\",\"default\":null},{\"name\":\"duration\",\"kind\":\"Any\",\"default\":3000},{\"name\":\"icon\",\"kind\":\"Any\",\"default\":null},{\"name\":\"message\",\"kind\":\"Any\",\"default\":\"\"},{\"name\":\"notification_type\",\"kind\":\"Any\",\"default\":null},{\"name\":\"_destroyed\",\"kind\":\"Any\",\"default\":false}]},{\"type\":\"model\",\"name\":\"TemplateActions1\",\"properties\":[{\"name\":\"open_modal\",\"kind\":\"Any\",\"default\":0},{\"name\":\"close_modal\",\"kind\":\"Any\",\"default\":0}]},{\"type\":\"model\",\"name\":\"BootstrapTemplateActions1\",\"properties\":[{\"name\":\"open_modal\",\"kind\":\"Any\",\"default\":0},{\"name\":\"close_modal\",\"kind\":\"Any\",\"default\":0}]},{\"type\":\"model\",\"name\":\"TemplateEditor1\",\"properties\":[{\"name\":\"layout\",\"kind\":\"Any\",\"default\":[]}]},{\"type\":\"model\",\"name\":\"MaterialTemplateActions1\",\"properties\":[{\"name\":\"open_modal\",\"kind\":\"Any\",\"default\":0},{\"name\":\"close_modal\",\"kind\":\"Any\",\"default\":0}]},{\"type\":\"model\",\"name\":\"ReactiveESM1\"},{\"type\":\"model\",\"name\":\"JSComponent1\"},{\"type\":\"model\",\"name\":\"ReactComponent1\"},{\"type\":\"model\",\"name\":\"AnyWidgetComponent1\"},{\"type\":\"model\",\"name\":\"request_value1\",\"properties\":[{\"name\":\"fill\",\"kind\":\"Any\",\"default\":\"none\"},{\"name\":\"_synced\",\"kind\":\"Any\",\"default\":null},{\"name\":\"_request_sync\",\"kind\":\"Any\",\"default\":0}]}]}};\n",
       "  var render_items = [{\"docid\":\"dca841b6-7ebc-45cf-aeca-d33902121ac9\",\"roots\":{\"p1368\":\"c04517f6-4255-4087-8043-3175615a6b6c\"},\"root_ids\":[\"p1368\"]}];\n",
       "  var docs = Object.values(docs_json)\n",
       "  if (!docs) {\n",
       "    return\n",
       "  }\n",
       "  const py_version = docs[0].version.replace('rc', '-rc.').replace('.dev', '-dev.')\n",
       "  async function embed_document(root) {\n",
       "    var Bokeh = get_bokeh(root)\n",
       "    await Bokeh.embed.embed_items_notebook(docs_json, render_items);\n",
       "    for (const render_item of render_items) {\n",
       "      for (const root_id of render_item.root_ids) {\n",
       "\tconst id_el = document.getElementById(root_id)\n",
       "\tif (id_el.children.length && id_el.children[0].hasAttribute('data-root-id')) {\n",
       "\t  const root_el = id_el.children[0]\n",
       "\t  root_el.id = root_el.id + '-rendered'\n",
       "\t  for (const child of root_el.children) {\n",
       "            // Ensure JupyterLab does not capture keyboard shortcuts\n",
       "            // see: https://jupyterlab.readthedocs.io/en/4.1.x/extension/notebook.html#keyboard-interaction-model\n",
       "\t    child.setAttribute('data-lm-suppress-shortcuts', 'true')\n",
       "\t  }\n",
       "\t}\n",
       "      }\n",
       "    }\n",
       "  }\n",
       "  function get_bokeh(root) {\n",
       "    if (root.Bokeh === undefined) {\n",
       "      return null\n",
       "    } else if (root.Bokeh.version !== py_version) {\n",
       "      if (root.Bokeh.versions === undefined || !root.Bokeh.versions.has(py_version)) {\n",
       "\treturn null\n",
       "      }\n",
       "      return root.Bokeh.versions.get(py_version);\n",
       "    } else if (root.Bokeh.version === py_version) {\n",
       "      return root.Bokeh\n",
       "    }\n",
       "    return null\n",
       "  }\n",
       "  function is_loaded(root) {\n",
       "    var Bokeh = get_bokeh(root)\n",
       "    return (Bokeh != null && Bokeh.Panel !== undefined)\n",
       "  }\n",
       "  if (is_loaded(root)) {\n",
       "    embed_document(root);\n",
       "  } else {\n",
       "    var attempts = 0;\n",
       "    var timer = setInterval(function(root) {\n",
       "      if (is_loaded(root)) {\n",
       "        clearInterval(timer);\n",
       "        embed_document(root);\n",
       "      } else if (document.readyState == \"complete\") {\n",
       "        attempts++;\n",
       "        if (attempts > 200) {\n",
       "          clearInterval(timer);\n",
       "\t  var Bokeh = get_bokeh(root)\n",
       "\t  if (Bokeh == null || Bokeh.Panel == null) {\n",
       "            console.warn(\"Panel: ERROR: Unable to run Panel code because Bokeh or Panel library is missing\");\n",
       "\t  } else {\n",
       "\t    console.warn(\"Panel: WARNING: Attempting to render but not all required libraries could be resolved.\")\n",
       "\t    embed_document(root)\n",
       "\t  }\n",
       "        }\n",
       "      }\n",
       "    }, 25, root)\n",
       "  }\n",
       "})(window);</script>"
      ],
      "text/plain": [
       ":Overlay\n",
       "   .WMTS.I   :WMTS   [Longitude,Latitude]\n",
       "   .Points.I :Points   [Lng,Lat]   (Hotel Name,City,Country)"
      ]
     },
     "execution_count": 26,
     "metadata": {
      "application/vnd.holoviews_exec.v0+json": {
       "id": "p1368"
      }
     },
     "output_type": "execute_result"
    }
   ],
   "source": [
    "%%capture --no-display\n",
    "\n",
    "# Configure the map plot\n",
    "hotel_map = hotel_df.hvplot.points(\n",
    "    'Lng', 'Lat',  \n",
    "    geo=True,      \n",
    "    size=10,       \n",
    "    color='Hotel Name',  \n",
    "    tiles='OSM',   \n",
    "    hover_cols=['City', 'Country', 'Hotel Name'],  \n",
    "    frame_width=800, \n",
    "    frame_height=600\n",
    ")\n",
    "\n",
    "# Display the map\n",
    "hotel_map"
   ]
  },
  {
   "cell_type": "code",
   "execution_count": null,
   "metadata": {},
   "outputs": [],
   "source": []
  }
 ],
 "metadata": {
  "kernelspec": {
   "display_name": "Python 3 (ipykernel)",
   "language": "python",
   "name": "python3"
  },
  "language_info": {
   "codemirror_mode": {
    "name": "ipython",
    "version": 3
   },
   "file_extension": ".py",
   "mimetype": "text/x-python",
   "name": "python",
   "nbconvert_exporter": "python",
   "pygments_lexer": "ipython3",
   "version": "3.12.4"
  },
  "latex_envs": {
   "LaTeX_envs_menu_present": true,
   "autoclose": false,
   "autocomplete": true,
   "bibliofile": "biblio.bib",
   "cite_by": "apalike",
   "current_citInitial": 1,
   "eqLabelWithNumbers": true,
   "eqNumInitial": 1,
   "hotkeys": {
    "equation": "Ctrl-E",
    "itemize": "Ctrl-I"
   },
   "labels_anchors": false,
   "latex_user_defs": false,
   "report_style_numbering": false,
   "user_envs_cfg": false
  }
 },
 "nbformat": 4,
 "nbformat_minor": 4
}
